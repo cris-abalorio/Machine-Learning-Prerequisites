{
 "cells": [
  {
   "cell_type": "markdown",
   "id": "6da22f1e",
   "metadata": {},
   "source": [
    "# Load Numpy"
   ]
  },
  {
   "cell_type": "code",
   "execution_count": 1,
   "id": "9ecca9a5",
   "metadata": {},
   "outputs": [],
   "source": [
    "import numpy as np\n"
   ]
  },
  {
   "cell_type": "markdown",
   "id": "88d2e6f2",
   "metadata": {},
   "source": [
    "# THe basics"
   ]
  },
  {
   "cell_type": "code",
   "execution_count": 2,
   "id": "dbf811f4",
   "metadata": {},
   "outputs": [
    {
     "name": "stdout",
     "output_type": "stream",
     "text": [
      "[1 2 3]\n"
     ]
    }
   ],
   "source": [
    "a = np.array([1,2,3], dtype='int32')\n",
    "print(a)"
   ]
  },
  {
   "cell_type": "code",
   "execution_count": 3,
   "id": "4b1ce0bf",
   "metadata": {},
   "outputs": [
    {
     "name": "stdout",
     "output_type": "stream",
     "text": [
      "[[9. 8. 7.]\n",
      " [6. 5. 4.]]\n"
     ]
    }
   ],
   "source": [
    "b = np.array([[9.0, 8.0, 7.0],[6.0,5.0,4.0]])\n",
    "print(b)"
   ]
  },
  {
   "cell_type": "code",
   "execution_count": 4,
   "id": "d46110a8",
   "metadata": {},
   "outputs": [
    {
     "data": {
      "text/plain": [
       "1"
      ]
     },
     "execution_count": 4,
     "metadata": {},
     "output_type": "execute_result"
    }
   ],
   "source": [
    "#Get dimensions\n",
    "a.ndim"
   ]
  },
  {
   "cell_type": "code",
   "execution_count": 5,
   "id": "98eda5e9",
   "metadata": {},
   "outputs": [
    {
     "data": {
      "text/plain": [
       "(2, 3)"
      ]
     },
     "execution_count": 5,
     "metadata": {},
     "output_type": "execute_result"
    }
   ],
   "source": [
    "#Get dimensions\n",
    "\n",
    "b.shape"
   ]
  },
  {
   "cell_type": "code",
   "execution_count": 7,
   "id": "5d93bda9",
   "metadata": {},
   "outputs": [
    {
     "data": {
      "text/plain": [
       "dtype('float64')"
      ]
     },
     "execution_count": 7,
     "metadata": {},
     "output_type": "execute_result"
    }
   ],
   "source": [
    "#get Type\n",
    "b.dtype"
   ]
  },
  {
   "cell_type": "code",
   "execution_count": 8,
   "id": "6cbf3be5",
   "metadata": {},
   "outputs": [
    {
     "data": {
      "text/plain": [
       "4"
      ]
     },
     "execution_count": 8,
     "metadata": {},
     "output_type": "execute_result"
    }
   ],
   "source": [
    "#Get size\n",
    "a.itemsize"
   ]
  },
  {
   "cell_type": "code",
   "execution_count": 9,
   "id": "eb3b37b2",
   "metadata": {},
   "outputs": [
    {
     "data": {
      "text/plain": [
       "12"
      ]
     },
     "execution_count": 9,
     "metadata": {},
     "output_type": "execute_result"
    }
   ],
   "source": [
    "#Get the total size\n",
    "a.size * a.itemsize"
   ]
  },
  {
   "cell_type": "code",
   "execution_count": 10,
   "id": "7a986e5e",
   "metadata": {},
   "outputs": [
    {
     "data": {
      "text/plain": [
       "12"
      ]
     },
     "execution_count": 10,
     "metadata": {},
     "output_type": "execute_result"
    }
   ],
   "source": [
    "#Get the total size\n",
    "a.nbytes"
   ]
  },
  {
   "cell_type": "markdown",
   "id": "56e23e3a",
   "metadata": {},
   "source": [
    "# Accessing/Changing specific elements, rows, columns, etc"
   ]
  },
  {
   "cell_type": "code",
   "execution_count": 11,
   "id": "cf0c4e63",
   "metadata": {},
   "outputs": [
    {
     "name": "stdout",
     "output_type": "stream",
     "text": [
      "[[ 1  2  3  4  5  6  7]\n",
      " [ 8  9 10 11 12 13 14]]\n"
     ]
    }
   ],
   "source": [
    "x = np.array([[1,2,3,4,5,6,7],[8,9,10,11,12,13,14]])\n",
    "print(x)"
   ]
  },
  {
   "cell_type": "code",
   "execution_count": 12,
   "id": "98495229",
   "metadata": {},
   "outputs": [
    {
     "data": {
      "text/plain": [
       "(2, 7)"
      ]
     },
     "execution_count": 12,
     "metadata": {},
     "output_type": "execute_result"
    }
   ],
   "source": [
    "x.shape"
   ]
  },
  {
   "cell_type": "code",
   "execution_count": 13,
   "id": "0bdf863d",
   "metadata": {},
   "outputs": [
    {
     "data": {
      "text/plain": [
       "13"
      ]
     },
     "execution_count": 13,
     "metadata": {},
     "output_type": "execute_result"
    }
   ],
   "source": [
    "#Get Specific elements [r, c]\n",
    "x[1][5]"
   ]
  },
  {
   "cell_type": "code",
   "execution_count": 14,
   "id": "53e43935",
   "metadata": {},
   "outputs": [
    {
     "data": {
      "text/plain": [
       "array([1, 2, 3, 4, 5, 6, 7])"
      ]
     },
     "execution_count": 14,
     "metadata": {},
     "output_type": "execute_result"
    }
   ],
   "source": [
    "#Get specific row\n",
    "x[0,:]"
   ]
  },
  {
   "cell_type": "code",
   "execution_count": 15,
   "id": "17b73efa",
   "metadata": {},
   "outputs": [
    {
     "data": {
      "text/plain": [
       "array([ 3, 10])"
      ]
     },
     "execution_count": 15,
     "metadata": {},
     "output_type": "execute_result"
    }
   ],
   "source": [
    "#Get specific column\n",
    "x[:,2]"
   ]
  },
  {
   "cell_type": "code",
   "execution_count": 16,
   "id": "dcb0972d",
   "metadata": {},
   "outputs": [
    {
     "data": {
      "text/plain": [
       "array([2, 3, 4, 5, 6])"
      ]
     },
     "execution_count": 16,
     "metadata": {},
     "output_type": "execute_result"
    }
   ],
   "source": [
    "#Getting a lot more fancy [startindex:endingindex:step]\n",
    "x[0,1:6]"
   ]
  },
  {
   "cell_type": "code",
   "execution_count": null,
   "id": "ae9491b6",
   "metadata": {},
   "outputs": [],
   "source": [
    "x[0,1:6:2]"
   ]
  },
  {
   "cell_type": "code",
   "execution_count": null,
   "id": "393d9b91",
   "metadata": {},
   "outputs": [],
   "source": [
    "x[0,1:-1:2]"
   ]
  },
  {
   "cell_type": "code",
   "execution_count": 17,
   "id": "1ad74d6a",
   "metadata": {},
   "outputs": [
    {
     "name": "stdout",
     "output_type": "stream",
     "text": [
      "[[ 1  2  3  4  5  6  7]\n",
      " [ 8  9 10 11 12 20 14]]\n"
     ]
    }
   ],
   "source": [
    "x[1,5] = 20\n",
    "print(x)"
   ]
  },
  {
   "cell_type": "code",
   "execution_count": null,
   "id": "233354a5",
   "metadata": {},
   "outputs": [],
   "source": [
    "#change column 2 into all 5\n",
    "x[:,2] = 5\n",
    "print(x)"
   ]
  },
  {
   "cell_type": "code",
   "execution_count": null,
   "id": "b29f609c",
   "metadata": {},
   "outputs": [],
   "source": [
    "#change column 3 into all 3 into 100 and 200\n",
    "x[:,3] = [100,200]\n",
    "print(x)"
   ]
  },
  {
   "cell_type": "markdown",
   "id": "bb301dca",
   "metadata": {},
   "source": [
    "#3D example"
   ]
  },
  {
   "cell_type": "code",
   "execution_count": null,
   "id": "1d879d87",
   "metadata": {},
   "outputs": [],
   "source": [
    "y = np.array([[[1,2],[3,4]],[[5,6],[6,7]]])\n",
    "print(y)"
   ]
  },
  {
   "cell_type": "code",
   "execution_count": null,
   "id": "5de15f53",
   "metadata": {},
   "outputs": [],
   "source": [
    "#get the specific element from 3D = get the value 4\n",
    "y[0,1,1]"
   ]
  },
  {
   "cell_type": "code",
   "execution_count": null,
   "id": "1ad0e526",
   "metadata": {},
   "outputs": [],
   "source": [
    "#get the specific element from 3D = get the value 6\n",
    "y[1,1,0]"
   ]
  },
  {
   "cell_type": "code",
   "execution_count": null,
   "id": "a468d196",
   "metadata": {},
   "outputs": [],
   "source": [
    "#get the specific element from 3D = get the value 6 and 7 in subset column values\n",
    "y[1,0,1:]"
   ]
  },
  {
   "cell_type": "code",
   "execution_count": null,
   "id": "23277893",
   "metadata": {},
   "outputs": [],
   "source": [
    "#concatenate\n",
    "np.concatenate((np.zeros((2,3)),np.ones((2,3), dtype=\"int32\")), axis=0)"
   ]
  },
  {
   "cell_type": "markdown",
   "id": "369a3d8a",
   "metadata": {},
   "source": [
    "# Initializing different types of arrays"
   ]
  },
  {
   "cell_type": "code",
   "execution_count": null,
   "id": "7dc55b86",
   "metadata": {},
   "outputs": [],
   "source": [
    "#ALL 0s MATRIX\n",
    "np.zeros((2,3))"
   ]
  },
  {
   "cell_type": "code",
   "execution_count": null,
   "id": "adb68e98",
   "metadata": {},
   "outputs": [],
   "source": [
    "#all 1s matrix"
   ]
  },
  {
   "cell_type": "code",
   "execution_count": null,
   "id": "187a7155",
   "metadata": {},
   "outputs": [],
   "source": []
  },
  {
   "cell_type": "code",
   "execution_count": null,
   "id": "5c9f2558",
   "metadata": {},
   "outputs": [],
   "source": [
    "# Any other number (shape, value, datatype)\n",
    "np.full((2,3),(99), dtype=\"float64\")\n"
   ]
  },
  {
   "cell_type": "code",
   "execution_count": null,
   "id": "1b5b6e54",
   "metadata": {},
   "outputs": [],
   "source": [
    "  # Any other number (full_like) use similar shape from existing array (shape, value, datatype)\n",
    "np.full_like(x, 4)"
   ]
  },
  {
   "cell_type": "code",
   "execution_count": null,
   "id": "4620a868",
   "metadata": {},
   "outputs": [],
   "source": [
    "# Random decimal numbers\n",
    "np.random.rand(4,2)"
   ]
  },
  {
   "cell_type": "code",
   "execution_count": null,
   "id": "63772768",
   "metadata": {},
   "outputs": [],
   "source": [
    "# Random decimal numbers from existing array use random_sample\n",
    "np.random.random_sample(x.shape)"
   ]
  },
  {
   "cell_type": "code",
   "execution_count": null,
   "id": "247c8666",
   "metadata": {},
   "outputs": [],
   "source": [
    "# Random integer values\n",
    "np.random.randint(100)"
   ]
  },
  {
   "cell_type": "code",
   "execution_count": null,
   "id": "953f4adc",
   "metadata": {},
   "outputs": [],
   "source": [
    "# Random integer values\n",
    "np.random.randint(-50,100, size=(3,3))"
   ]
  },
  {
   "cell_type": "code",
   "execution_count": null,
   "id": "947004b5",
   "metadata": {},
   "outputs": [],
   "source": [
    "# indentity matrix\n",
    "np.identity(5)"
   ]
  },
  {
   "cell_type": "code",
   "execution_count": null,
   "id": "6fa9f9df",
   "metadata": {},
   "outputs": [],
   "source": [
    "# repeat an array\n",
    "arr = np.array([[1,2,3]])\n",
    "r1 = np.repeat(arr,3,axis=0)\n",
    "print(r1)"
   ]
  },
  {
   "cell_type": "code",
   "execution_count": null,
   "id": "43fdc6bd",
   "metadata": {},
   "outputs": [],
   "source": [
    "# repeat an array\n",
    "arr = np.array([[1,2,3]])\n",
    "r1 = np.repeat(arr,3,axis=1)\n",
    "print(r1)"
   ]
  },
  {
   "cell_type": "markdown",
   "id": "e15c10a3",
   "metadata": {},
   "source": [
    "# Be careful when copying an array"
   ]
  },
  {
   "cell_type": "code",
   "execution_count": null,
   "id": "cf3990db",
   "metadata": {},
   "outputs": [],
   "source": [
    "a = np.array([1,2,3])\n",
    "b = a\n",
    "print(b)"
   ]
  },
  {
   "cell_type": "code",
   "execution_count": null,
   "id": "ee49b9e7",
   "metadata": {},
   "outputs": [],
   "source": [
    "a = np.array([1,2,3])\n",
    "b = a\n",
    "b[0] = 100\n",
    "print(a) # 1 of array a is changed because it directly points the location"
   ]
  },
  {
   "cell_type": "code",
   "execution_count": null,
   "id": "bc63cd86",
   "metadata": {},
   "outputs": [],
   "source": [
    "# use copy() to retain the values of array a\n",
    "a = np.array([1,2,3])\n",
    "b = a.copy()\n",
    "b[0] = 100\n",
    "print(a)"
   ]
  },
  {
   "cell_type": "markdown",
   "id": "345d8d6a",
   "metadata": {},
   "source": [
    "# Mathematics"
   ]
  },
  {
   "cell_type": "code",
   "execution_count": null,
   "id": "5736ce3c",
   "metadata": {},
   "outputs": [],
   "source": [
    "a = np.array([1,2,3,4])\n",
    "print(a)"
   ]
  },
  {
   "cell_type": "code",
   "execution_count": null,
   "id": "187b41f8",
   "metadata": {},
   "outputs": [],
   "source": [
    "a + 2"
   ]
  },
  {
   "cell_type": "code",
   "execution_count": null,
   "id": "514c6b8e",
   "metadata": {},
   "outputs": [],
   "source": [
    "a - 2"
   ]
  },
  {
   "cell_type": "code",
   "execution_count": null,
   "id": "311be8c4",
   "metadata": {},
   "outputs": [],
   "source": [
    "a * 2"
   ]
  },
  {
   "cell_type": "code",
   "execution_count": null,
   "id": "8d1f4cef",
   "metadata": {},
   "outputs": [],
   "source": [
    "a / 2"
   ]
  },
  {
   "cell_type": "code",
   "execution_count": null,
   "id": "302a4d8a",
   "metadata": {},
   "outputs": [],
   "source": [
    "b = np.array([1,0,1,0])\n",
    "print(a+b)"
   ]
  },
  {
   "cell_type": "code",
   "execution_count": null,
   "id": "3698a8fa",
   "metadata": {},
   "outputs": [],
   "source": [
    "a ** 2"
   ]
  },
  {
   "cell_type": "code",
   "execution_count": null,
   "id": "3528217a",
   "metadata": {},
   "outputs": [],
   "source": [
    "# take the sine of all the values\n",
    "np.sin(a)"
   ]
  },
  {
   "cell_type": "code",
   "execution_count": null,
   "id": "017c5e0a",
   "metadata": {},
   "outputs": [],
   "source": [
    " # tike the cosine of all the values\n",
    "np.cos(a)"
   ]
  },
  {
   "cell_type": "markdown",
   "id": "ab9c32e5",
   "metadata": {},
   "source": [
    "# Linear Algebra"
   ]
  },
  {
   "cell_type": "code",
   "execution_count": null,
   "id": "c092b5c1",
   "metadata": {},
   "outputs": [],
   "source": [
    "a = np.ones((2,3))\n",
    "print(a)\n",
    "\n",
    "b = np.full((3,2),2)\n",
    "print(b)"
   ]
  },
  {
   "cell_type": "code",
   "execution_count": null,
   "id": "988fd4b2",
   "metadata": {},
   "outputs": [],
   "source": [
    "#a * b\n",
    "\n"
   ]
  },
  {
   "cell_type": "code",
   "execution_count": null,
   "id": "8ca8772f",
   "metadata": {},
   "outputs": [],
   "source": [
    "# Matrix multiplication\n",
    "np.matmul(a,b)"
   ]
  },
  {
   "cell_type": "code",
   "execution_count": null,
   "id": "088058c5",
   "metadata": {},
   "outputs": [],
   "source": [
    "# find the determinant\n",
    "c = np.identity(3)\n",
    "np.linalg.det(c)"
   ]
  },
  {
   "cell_type": "markdown",
   "id": "cc6cba86",
   "metadata": {},
   "source": [
    "# Statistics"
   ]
  },
  {
   "cell_type": "code",
   "execution_count": null,
   "id": "0630a023",
   "metadata": {},
   "outputs": [],
   "source": [
    "stats = np.array([[1,2,3],[4,5,6]])\n",
    "print(stats)"
   ]
  },
  {
   "cell_type": "code",
   "execution_count": null,
   "id": "7956f785",
   "metadata": {},
   "outputs": [],
   "source": [
    "np.max(stats)"
   ]
  },
  {
   "cell_type": "code",
   "execution_count": null,
   "id": "cb41ec77",
   "metadata": {},
   "outputs": [],
   "source": [
    "# axis = 0 row; axis = 1 columns\n",
    "np.max(stats, axis = 0) "
   ]
  },
  {
   "cell_type": "code",
   "execution_count": null,
   "id": "94587cd2",
   "metadata": {},
   "outputs": [],
   "source": [
    "np.sum(stats)"
   ]
  },
  {
   "cell_type": "code",
   "execution_count": null,
   "id": "d7e1a039",
   "metadata": {},
   "outputs": [],
   "source": [
    " np.sum(stats, axis = 0)"
   ]
  },
  {
   "cell_type": "code",
   "execution_count": null,
   "id": "12a584c6",
   "metadata": {},
   "outputs": [],
   "source": [
    " np.sum(stats, axis = 1)"
   ]
  },
  {
   "cell_type": "markdown",
   "id": "28deda8e",
   "metadata": {},
   "source": [
    "# Reorganizing Arrays"
   ]
  },
  {
   "cell_type": "code",
   "execution_count": null,
   "id": "8e7ca6a1",
   "metadata": {},
   "outputs": [],
   "source": [
    "before = np.array([[1,2,3,4],[5,6,7,8]])\n",
    "print(before)\n"
   ]
  },
  {
   "cell_type": "code",
   "execution_count": null,
   "id": "5b25afaf",
   "metadata": {},
   "outputs": [],
   "source": [
    "before.shape"
   ]
  },
  {
   "cell_type": "code",
   "execution_count": null,
   "id": "9d8d4a37",
   "metadata": {},
   "outputs": [],
   "source": [
    "after = before.reshape(4,2)"
   ]
  },
  {
   "cell_type": "code",
   "execution_count": null,
   "id": "9588ffc3",
   "metadata": {},
   "outputs": [],
   "source": [
    "after"
   ]
  },
  {
   "cell_type": "code",
   "execution_count": null,
   "id": "529b5c18",
   "metadata": {},
   "outputs": [],
   "source": [
    "#vertically stacking vectors\n",
    "v1 = np.array([1,2,3,4])\n",
    "v2 = np.array([5,6,7,8])\n",
    "\n",
    "np.vstack([v1,v2,v2,v2])"
   ]
  },
  {
   "cell_type": "code",
   "execution_count": null,
   "id": "13fa32f8",
   "metadata": {},
   "outputs": [],
   "source": [
    "# horizontal stacking vectors\n",
    "h1 = np.ones((2,4))\n",
    "h2 = np.zeros((2,2))\n",
    "print(h1)\n",
    "print(h2)"
   ]
  },
  {
   "cell_type": "code",
   "execution_count": null,
   "id": "54f5c33f",
   "metadata": {},
   "outputs": [],
   "source": [
    "np.hstack([h1,h2])"
   ]
  },
  {
   "cell_type": "markdown",
   "id": "4305c5eb",
   "metadata": {},
   "source": [
    "# Miscellaneous"
   ]
  },
  {
   "cell_type": "markdown",
   "id": "03e2f424",
   "metadata": {},
   "source": [
    "# Load Data from File"
   ]
  },
  {
   "cell_type": "code",
   "execution_count": null,
   "id": "ebfc39d0",
   "metadata": {},
   "outputs": [],
   "source": [
    "    filedata = np.genfromtxt('numericdatasample.txt', delimiter=\",\")\n",
    "    filedata = filedata.astype('int32') # to typecast into integer\n",
    "    filedata"
   ]
  },
  {
   "cell_type": "markdown",
   "id": "942cc7ea",
   "metadata": {},
   "source": [
    "# Boolean Masking and advance indexing"
   ]
  },
  {
   "cell_type": "code",
   "execution_count": null,
   "id": "465e2fb1",
   "metadata": {},
   "outputs": [],
   "source": [
    "filedata > 6"
   ]
  },
  {
   "cell_type": "code",
   "execution_count": null,
   "id": "5c4711ab",
   "metadata": {},
   "outputs": [],
   "source": [
    "filedata[filedata > 6]"
   ]
  },
  {
   "cell_type": "code",
   "execution_count": null,
   "id": "02b68804",
   "metadata": {},
   "outputs": [],
   "source": [
    "filedata"
   ]
  },
  {
   "cell_type": "code",
   "execution_count": null,
   "id": "bf0976fc",
   "metadata": {},
   "outputs": [],
   "source": [
    "# searching for any value in axis\n",
    "np.any(filedata > 6, axis = 0)\n"
   ]
  },
  {
   "cell_type": "code",
   "execution_count": null,
   "id": "e97048dc",
   "metadata": {},
   "outputs": [],
   "source": [
    "# searching for any value in axis\n",
    "np.all(filedata > 6, axis = 0)"
   ]
  },
  {
   "cell_type": "code",
   "execution_count": null,
   "id": "f20b8e71",
   "metadata": {},
   "outputs": [],
   "source": [
    "# you can index with  a list in Numpy\n",
    "a = np.array([ 7,  8,  9, 10,  7,  8,  9, 10,  7,  8,  9, 10])\n",
    "a[[1,2,10]]"
   ]
  },
  {
   "cell_type": "code",
   "execution_count": null,
   "id": "0593236f",
   "metadata": {},
   "outputs": [],
   "source": [
    "(filedata > 3 ) & (filedata < 10)"
   ]
  },
  {
   "cell_type": "code",
   "execution_count": null,
   "id": "66c92775",
   "metadata": {},
   "outputs": [],
   "source": [
    "np.random.rand(4,2)"
   ]
  },
  {
   "cell_type": "code",
   "execution_count": null,
   "id": "2c16d7ef",
   "metadata": {},
   "outputs": [],
   "source": []
  },
  {
   "cell_type": "code",
   "execution_count": null,
   "id": "b0b815ff",
   "metadata": {},
   "outputs": [],
   "source": [
    "y=np.genfromtxt('reuters21578 _enc.txt', delimiter=',', dtype='uint32', skip_header=1)"
   ]
  },
  {
   "cell_type": "code",
   "execution_count": null,
   "id": "e9f11708",
   "metadata": {},
   "outputs": [],
   "source": [
    "x = np.random.rand(100,10, dtype='uint32')"
   ]
  },
  {
   "cell_type": "code",
   "execution_count": null,
   "id": "19f78645",
   "metadata": {},
   "outputs": [],
   "source": []
  },
  {
   "cell_type": "code",
   "execution_count": null,
   "id": "d40d4d27",
   "metadata": {},
   "outputs": [],
   "source": [
    "np.save(\"sample_uint_32\",y)"
   ]
  },
  {
   "cell_type": "code",
   "execution_count": null,
   "id": "a44f96a6",
   "metadata": {},
   "outputs": [],
   "source": []
  }
 ],
 "metadata": {
  "kernelspec": {
   "display_name": "Python 3 (ipykernel)",
   "language": "python",
   "name": "python3"
  },
  "language_info": {
   "codemirror_mode": {
    "name": "ipython",
    "version": 3
   },
   "file_extension": ".py",
   "mimetype": "text/x-python",
   "name": "python",
   "nbconvert_exporter": "python",
   "pygments_lexer": "ipython3",
   "version": "3.10.5"
  }
 },
 "nbformat": 4,
 "nbformat_minor": 5
}
