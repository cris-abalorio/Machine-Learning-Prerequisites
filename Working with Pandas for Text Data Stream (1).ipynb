{
 "cells": [
  {
   "cell_type": "markdown",
   "id": "dc885485",
   "metadata": {},
   "source": [
    "# String Casing"
   ]
  },
  {
   "cell_type": "code",
   "execution_count": 4,
   "id": "562f58ea",
   "metadata": {},
   "outputs": [],
   "source": [
    "import pandas as pd"
   ]
  },
  {
   "cell_type": "code",
   "execution_count": 12,
   "id": "4cb1d5ab",
   "metadata": {},
   "outputs": [
    {
     "data": {
      "text/html": [
       "<div>\n",
       "<style scoped>\n",
       "    .dataframe tbody tr th:only-of-type {\n",
       "        vertical-align: middle;\n",
       "    }\n",
       "\n",
       "    .dataframe tbody tr th {\n",
       "        vertical-align: top;\n",
       "    }\n",
       "\n",
       "    .dataframe thead th {\n",
       "        text-align: right;\n",
       "    }\n",
       "</style>\n",
       "<table border=\"1\" class=\"dataframe\">\n",
       "  <thead>\n",
       "    <tr style=\"text-align: right;\">\n",
       "      <th></th>\n",
       "      <th>Timestamp</th>\n",
       "      <th>Polarity</th>\n",
       "      <th>Message</th>\n",
       "    </tr>\n",
       "  </thead>\n",
       "  <tbody>\n",
       "    <tr>\n",
       "      <th>0</th>\n",
       "      <td>26/07/2021 14:20:57</td>\n",
       "      <td>Negative</td>\n",
       "      <td>My experience in online class, so far it was a...</td>\n",
       "    </tr>\n",
       "    <tr>\n",
       "      <th>1</th>\n",
       "      <td>26/07/2021 14:34:07</td>\n",
       "      <td>Negative</td>\n",
       "      <td>My online enrollmet experience was not easy, b...</td>\n",
       "    </tr>\n",
       "    <tr>\n",
       "      <th>2</th>\n",
       "      <td>26/07/2021 15:43:26</td>\n",
       "      <td>Negative</td>\n",
       "      <td>My online enrollment experience was slightly h...</td>\n",
       "    </tr>\n",
       "    <tr>\n",
       "      <th>3</th>\n",
       "      <td>26/07/2021 16:09:39</td>\n",
       "      <td>Negative</td>\n",
       "      <td>This question seems vague to me. Online enroll...</td>\n",
       "    </tr>\n",
       "    <tr>\n",
       "      <th>4</th>\n",
       "      <td>26/07/2021 23:12:21</td>\n",
       "      <td>Negative</td>\n",
       "      <td>Not easy to find a connection to answer the qu...</td>\n",
       "    </tr>\n",
       "  </tbody>\n",
       "</table>\n",
       "</div>"
      ],
      "text/plain": [
       "             Timestamp  Polarity  \\\n",
       "0  26/07/2021 14:20:57  Negative   \n",
       "1  26/07/2021 14:34:07  Negative   \n",
       "2  26/07/2021 15:43:26  Negative   \n",
       "3  26/07/2021 16:09:39  Negative   \n",
       "4  26/07/2021 23:12:21  Negative   \n",
       "\n",
       "                                             Message  \n",
       "0  My experience in online class, so far it was a...  \n",
       "1  My online enrollmet experience was not easy, b...  \n",
       "2  My online enrollment experience was slightly h...  \n",
       "3  This question seems vague to me. Online enroll...  \n",
       "4  Not easy to find a connection to answer the qu...  "
      ]
     },
     "execution_count": 12,
     "metadata": {},
     "output_type": "execute_result"
    }
   ],
   "source": [
    "data = pd.read_csv(\"sample.csv\")\n",
    "data.head()\n"
   ]
  },
  {
   "cell_type": "code",
   "execution_count": 14,
   "id": "f1daec80",
   "metadata": {},
   "outputs": [
    {
     "data": {
      "text/plain": [
       "(2246, 3)"
      ]
     },
     "execution_count": 14,
     "metadata": {},
     "output_type": "execute_result"
    }
   ],
   "source": [
    "data.shape"
   ]
  },
  {
   "cell_type": "code",
   "execution_count": 15,
   "id": "6b8dd3de",
   "metadata": {},
   "outputs": [
    {
     "data": {
      "text/html": [
       "<div>\n",
       "<style scoped>\n",
       "    .dataframe tbody tr th:only-of-type {\n",
       "        vertical-align: middle;\n",
       "    }\n",
       "\n",
       "    .dataframe tbody tr th {\n",
       "        vertical-align: top;\n",
       "    }\n",
       "\n",
       "    .dataframe thead th {\n",
       "        text-align: right;\n",
       "    }\n",
       "</style>\n",
       "<table border=\"1\" class=\"dataframe\">\n",
       "  <thead>\n",
       "    <tr style=\"text-align: right;\">\n",
       "      <th></th>\n",
       "      <th>Timestamp</th>\n",
       "      <th>Polarity</th>\n",
       "      <th>Message</th>\n",
       "    </tr>\n",
       "  </thead>\n",
       "  <tbody>\n",
       "    <tr>\n",
       "      <th>0</th>\n",
       "      <td>26/07/2021 14:20:57</td>\n",
       "      <td>Negative</td>\n",
       "      <td>My experience in online class, so far it was a...</td>\n",
       "    </tr>\n",
       "    <tr>\n",
       "      <th>1</th>\n",
       "      <td>26/07/2021 14:34:07</td>\n",
       "      <td>Negative</td>\n",
       "      <td>My online enrollmet experience was not easy, b...</td>\n",
       "    </tr>\n",
       "    <tr>\n",
       "      <th>2</th>\n",
       "      <td>26/07/2021 15:43:26</td>\n",
       "      <td>Negative</td>\n",
       "      <td>My online enrollment experience was slightly h...</td>\n",
       "    </tr>\n",
       "    <tr>\n",
       "      <th>3</th>\n",
       "      <td>26/07/2021 16:09:39</td>\n",
       "      <td>Negative</td>\n",
       "      <td>This question seems vague to me. Online enroll...</td>\n",
       "    </tr>\n",
       "    <tr>\n",
       "      <th>4</th>\n",
       "      <td>26/07/2021 23:12:21</td>\n",
       "      <td>Negative</td>\n",
       "      <td>Not easy to find a connection to answer the qu...</td>\n",
       "    </tr>\n",
       "    <tr>\n",
       "      <th>...</th>\n",
       "      <td>...</td>\n",
       "      <td>...</td>\n",
       "      <td>...</td>\n",
       "    </tr>\n",
       "    <tr>\n",
       "      <th>2241</th>\n",
       "      <td>29/07/2021 22:46:10</td>\n",
       "      <td>Positive</td>\n",
       "      <td>It can helps us to study more to understand ou...</td>\n",
       "    </tr>\n",
       "    <tr>\n",
       "      <th>2242</th>\n",
       "      <td>30/07/2021 15:16:13</td>\n",
       "      <td>Positive</td>\n",
       "      <td>It was okay</td>\n",
       "    </tr>\n",
       "    <tr>\n",
       "      <th>2243</th>\n",
       "      <td>1/8/2021 14:30</td>\n",
       "      <td>Positive</td>\n",
       "      <td>Teachers in google class are approachable so I...</td>\n",
       "    </tr>\n",
       "    <tr>\n",
       "      <th>2244</th>\n",
       "      <td>29/07/2021 08:11:49</td>\n",
       "      <td>Positive</td>\n",
       "      <td>The online class is help to us not exposed in ...</td>\n",
       "    </tr>\n",
       "    <tr>\n",
       "      <th>2245</th>\n",
       "      <td>29/07/2021 16:56:30</td>\n",
       "      <td>Positive</td>\n",
       "      <td>So hard but amazing</td>\n",
       "    </tr>\n",
       "  </tbody>\n",
       "</table>\n",
       "<p>2246 rows × 3 columns</p>\n",
       "</div>"
      ],
      "text/plain": [
       "                Timestamp  Polarity  \\\n",
       "0     26/07/2021 14:20:57  Negative   \n",
       "1     26/07/2021 14:34:07  Negative   \n",
       "2     26/07/2021 15:43:26  Negative   \n",
       "3     26/07/2021 16:09:39  Negative   \n",
       "4     26/07/2021 23:12:21  Negative   \n",
       "...                   ...       ...   \n",
       "2241  29/07/2021 22:46:10  Positive   \n",
       "2242  30/07/2021 15:16:13  Positive   \n",
       "2243       1/8/2021 14:30  Positive   \n",
       "2244  29/07/2021 08:11:49  Positive   \n",
       "2245  29/07/2021 16:56:30  Positive   \n",
       "\n",
       "                                                Message  \n",
       "0     My experience in online class, so far it was a...  \n",
       "1     My online enrollmet experience was not easy, b...  \n",
       "2     My online enrollment experience was slightly h...  \n",
       "3     This question seems vague to me. Online enroll...  \n",
       "4     Not easy to find a connection to answer the qu...  \n",
       "...                                                 ...  \n",
       "2241  It can helps us to study more to understand ou...  \n",
       "2242                                        It was okay  \n",
       "2243  Teachers in google class are approachable so I...  \n",
       "2244  The online class is help to us not exposed in ...  \n",
       "2245                                So hard but amazing  \n",
       "\n",
       "[2246 rows x 3 columns]"
      ]
     },
     "execution_count": 15,
     "metadata": {},
     "output_type": "execute_result"
    }
   ],
   "source": [
    "data"
   ]
  },
  {
   "cell_type": "code",
   "execution_count": 20,
   "id": "8aacdf2a",
   "metadata": {},
   "outputs": [
    {
     "data": {
      "text/plain": [
       "0       26/07/2021 14:20:57\n",
       "1       26/07/2021 14:34:07\n",
       "2       26/07/2021 15:43:26\n",
       "3       26/07/2021 16:09:39\n",
       "4       26/07/2021 23:12:21\n",
       "               ...         \n",
       "2241    29/07/2021 22:46:10\n",
       "2242    30/07/2021 15:16:13\n",
       "2243         1/8/2021 14:30\n",
       "2244    29/07/2021 08:11:49\n",
       "2245    29/07/2021 16:56:30\n",
       "Name: Timestamp, Length: 2246, dtype: object"
      ]
     },
     "execution_count": 20,
     "metadata": {},
     "output_type": "execute_result"
    }
   ],
   "source": [
    "data[\"Timestamp\"]"
   ]
  },
  {
   "cell_type": "code",
   "execution_count": 21,
   "id": "eeb8f5da",
   "metadata": {},
   "outputs": [
    {
     "data": {
      "text/plain": [
       "'   hello '"
      ]
     },
     "execution_count": 21,
     "metadata": {},
     "output_type": "execute_result"
    }
   ],
   "source": [
    "y = \"   hello \"\n",
    "y"
   ]
  },
  {
   "cell_type": "code",
   "execution_count": 22,
   "id": "65d44d18",
   "metadata": {},
   "outputs": [
    {
     "data": {
      "text/plain": [
       "'   hello'"
      ]
     },
     "execution_count": 22,
     "metadata": {},
     "output_type": "execute_result"
    }
   ],
   "source": [
    "y.rstrip()"
   ]
  },
  {
   "cell_type": "code",
   "execution_count": 24,
   "id": "a65b0e8a",
   "metadata": {},
   "outputs": [
    {
     "data": {
      "text/plain": [
       "'hello '"
      ]
     },
     "execution_count": 24,
     "metadata": {},
     "output_type": "execute_result"
    }
   ],
   "source": [
    "y.lstrip()"
   ]
  },
  {
   "cell_type": "code",
   "execution_count": 25,
   "id": "270db773",
   "metadata": {},
   "outputs": [
    {
     "data": {
      "text/plain": [
       "'hello'"
      ]
     },
     "execution_count": 25,
     "metadata": {},
     "output_type": "execute_result"
    }
   ],
   "source": [
    "y.strip()"
   ]
  },
  {
   "cell_type": "code",
   "execution_count": null,
   "id": "b7577193",
   "metadata": {},
   "outputs": [],
   "source": [
    "data[\"Message\"].str.lstrip()"
   ]
  },
  {
   "cell_type": "code",
   "execution_count": null,
   "id": "1ad5316e",
   "metadata": {},
   "outputs": [],
   "source": [
    "data[\"Message\"].str.rstrip()"
   ]
  },
  {
   "cell_type": "code",
   "execution_count": 26,
   "id": "1614a1be",
   "metadata": {},
   "outputs": [
    {
     "data": {
      "text/plain": [
       "0       My experience in online class, so far it was a...\n",
       "1       My online enrollmet experience was not easy, b...\n",
       "2       My online enrollment experience was slightly h...\n",
       "3       This question seems vague to me. Online enroll...\n",
       "4       Not easy to find a connection to answer the qu...\n",
       "                              ...                        \n",
       "2241    It can helps us to study more to understand ou...\n",
       "2242                                          It was okay\n",
       "2243    Teachers in google class are approachable so I...\n",
       "2244    The online class is help to us not exposed in ...\n",
       "2245                                  So hard but amazing\n",
       "Name: Message, Length: 2246, dtype: object"
      ]
     },
     "execution_count": 26,
     "metadata": {},
     "output_type": "execute_result"
    }
   ],
   "source": [
    "data[\"Message\"].str.strip()"
   ]
  },
  {
   "cell_type": "code",
   "execution_count": 33,
   "id": "c3e4d8c2",
   "metadata": {},
   "outputs": [
    {
     "data": {
      "text/plain": [
       "0       MY EXPERIENCE IN ONLINE CLASS, SO FAR IT WAS A...\n",
       "1       MY ONLINE ENROLLMET EXPERIENCE WAS NOT EASY, B...\n",
       "2       MY ONLINE ENROLLMENT EXPERIENCE WAS SLIGHTLY H...\n",
       "3       THIS QUESTION SEEMS VAGUE TO ME. ONLINE ENROLL...\n",
       "4       NOT EASY TO FIND A CONNECTION TO ANSWER THE QU...\n",
       "                              ...                        \n",
       "2241    IT CAN HELPS US TO STUDY MORE TO UNDERSTAND OU...\n",
       "2242                                          IT WAS OKAY\n",
       "2243    TEACHERS IN GOOGLE CLASS ARE APPROACHABLE SO I...\n",
       "2244    THE ONLINE CLASS IS HELP TO US NOT EXPOSED IN ...\n",
       "2245                                  SO HARD BUT AMAZING\n",
       "Name: UpperMessage, Length: 2246, dtype: object"
      ]
     },
     "execution_count": 33,
     "metadata": {},
     "output_type": "execute_result"
    }
   ],
   "source": [
    "data[\"UpperMessage\"] = data[\"Message\"].str.upper()\n",
    "data[\"UpperMessage\"]"
   ]
  },
  {
   "cell_type": "code",
   "execution_count": 34,
   "id": "cfbbbb1d",
   "metadata": {},
   "outputs": [
    {
     "data": {
      "text/html": [
       "<div>\n",
       "<style scoped>\n",
       "    .dataframe tbody tr th:only-of-type {\n",
       "        vertical-align: middle;\n",
       "    }\n",
       "\n",
       "    .dataframe tbody tr th {\n",
       "        vertical-align: top;\n",
       "    }\n",
       "\n",
       "    .dataframe thead th {\n",
       "        text-align: right;\n",
       "    }\n",
       "</style>\n",
       "<table border=\"1\" class=\"dataframe\">\n",
       "  <thead>\n",
       "    <tr style=\"text-align: right;\">\n",
       "      <th></th>\n",
       "      <th>Timestamp</th>\n",
       "      <th>Polarity</th>\n",
       "      <th>Message</th>\n",
       "      <th>StripMessage</th>\n",
       "      <th>UpperMessage</th>\n",
       "    </tr>\n",
       "  </thead>\n",
       "  <tbody>\n",
       "    <tr>\n",
       "      <th>0</th>\n",
       "      <td>26/07/2021 14:20:57</td>\n",
       "      <td>Negative</td>\n",
       "      <td>My experience in online class, so far it was a...</td>\n",
       "      <td>My experience in online class, so far it was a...</td>\n",
       "      <td>MY EXPERIENCE IN ONLINE CLASS, SO FAR IT WAS A...</td>\n",
       "    </tr>\n",
       "    <tr>\n",
       "      <th>1</th>\n",
       "      <td>26/07/2021 14:34:07</td>\n",
       "      <td>Negative</td>\n",
       "      <td>My online enrollmet experience was not easy, b...</td>\n",
       "      <td>My online enrollmet experience was not easy, b...</td>\n",
       "      <td>MY ONLINE ENROLLMET EXPERIENCE WAS NOT EASY, B...</td>\n",
       "    </tr>\n",
       "    <tr>\n",
       "      <th>2</th>\n",
       "      <td>26/07/2021 15:43:26</td>\n",
       "      <td>Negative</td>\n",
       "      <td>My online enrollment experience was slightly h...</td>\n",
       "      <td>My online enrollment experience was slightly h...</td>\n",
       "      <td>MY ONLINE ENROLLMENT EXPERIENCE WAS SLIGHTLY H...</td>\n",
       "    </tr>\n",
       "    <tr>\n",
       "      <th>3</th>\n",
       "      <td>26/07/2021 16:09:39</td>\n",
       "      <td>Negative</td>\n",
       "      <td>This question seems vague to me. Online enroll...</td>\n",
       "      <td>This question seems vague to me. Online enroll...</td>\n",
       "      <td>THIS QUESTION SEEMS VAGUE TO ME. ONLINE ENROLL...</td>\n",
       "    </tr>\n",
       "    <tr>\n",
       "      <th>4</th>\n",
       "      <td>26/07/2021 23:12:21</td>\n",
       "      <td>Negative</td>\n",
       "      <td>Not easy to find a connection to answer the qu...</td>\n",
       "      <td>Not easy to find a connection to answer the qu...</td>\n",
       "      <td>NOT EASY TO FIND A CONNECTION TO ANSWER THE QU...</td>\n",
       "    </tr>\n",
       "    <tr>\n",
       "      <th>...</th>\n",
       "      <td>...</td>\n",
       "      <td>...</td>\n",
       "      <td>...</td>\n",
       "      <td>...</td>\n",
       "      <td>...</td>\n",
       "    </tr>\n",
       "    <tr>\n",
       "      <th>2241</th>\n",
       "      <td>29/07/2021 22:46:10</td>\n",
       "      <td>Positive</td>\n",
       "      <td>It can helps us to study more to understand ou...</td>\n",
       "      <td>It can helps us to study more to understand ou...</td>\n",
       "      <td>IT CAN HELPS US TO STUDY MORE TO UNDERSTAND OU...</td>\n",
       "    </tr>\n",
       "    <tr>\n",
       "      <th>2242</th>\n",
       "      <td>30/07/2021 15:16:13</td>\n",
       "      <td>Positive</td>\n",
       "      <td>It was okay</td>\n",
       "      <td>It was okay</td>\n",
       "      <td>IT WAS OKAY</td>\n",
       "    </tr>\n",
       "    <tr>\n",
       "      <th>2243</th>\n",
       "      <td>1/8/2021 14:30</td>\n",
       "      <td>Positive</td>\n",
       "      <td>Teachers in google class are approachable so I...</td>\n",
       "      <td>Teachers in google class are approachable so I...</td>\n",
       "      <td>TEACHERS IN GOOGLE CLASS ARE APPROACHABLE SO I...</td>\n",
       "    </tr>\n",
       "    <tr>\n",
       "      <th>2244</th>\n",
       "      <td>29/07/2021 08:11:49</td>\n",
       "      <td>Positive</td>\n",
       "      <td>The online class is help to us not exposed in ...</td>\n",
       "      <td>The online class is help to us not exposed in ...</td>\n",
       "      <td>THE ONLINE CLASS IS HELP TO US NOT EXPOSED IN ...</td>\n",
       "    </tr>\n",
       "    <tr>\n",
       "      <th>2245</th>\n",
       "      <td>29/07/2021 16:56:30</td>\n",
       "      <td>Positive</td>\n",
       "      <td>So hard but amazing</td>\n",
       "      <td>So hard but amazing</td>\n",
       "      <td>SO HARD BUT AMAZING</td>\n",
       "    </tr>\n",
       "  </tbody>\n",
       "</table>\n",
       "<p>2246 rows × 5 columns</p>\n",
       "</div>"
      ],
      "text/plain": [
       "                Timestamp  Polarity  \\\n",
       "0     26/07/2021 14:20:57  Negative   \n",
       "1     26/07/2021 14:34:07  Negative   \n",
       "2     26/07/2021 15:43:26  Negative   \n",
       "3     26/07/2021 16:09:39  Negative   \n",
       "4     26/07/2021 23:12:21  Negative   \n",
       "...                   ...       ...   \n",
       "2241  29/07/2021 22:46:10  Positive   \n",
       "2242  30/07/2021 15:16:13  Positive   \n",
       "2243       1/8/2021 14:30  Positive   \n",
       "2244  29/07/2021 08:11:49  Positive   \n",
       "2245  29/07/2021 16:56:30  Positive   \n",
       "\n",
       "                                                Message  \\\n",
       "0     My experience in online class, so far it was a...   \n",
       "1     My online enrollmet experience was not easy, b...   \n",
       "2     My online enrollment experience was slightly h...   \n",
       "3     This question seems vague to me. Online enroll...   \n",
       "4     Not easy to find a connection to answer the qu...   \n",
       "...                                                 ...   \n",
       "2241  It can helps us to study more to understand ou...   \n",
       "2242                                        It was okay   \n",
       "2243  Teachers in google class are approachable so I...   \n",
       "2244  The online class is help to us not exposed in ...   \n",
       "2245                                So hard but amazing   \n",
       "\n",
       "                                           StripMessage  \\\n",
       "0     My experience in online class, so far it was a...   \n",
       "1     My online enrollmet experience was not easy, b...   \n",
       "2     My online enrollment experience was slightly h...   \n",
       "3     This question seems vague to me. Online enroll...   \n",
       "4     Not easy to find a connection to answer the qu...   \n",
       "...                                                 ...   \n",
       "2241  It can helps us to study more to understand ou...   \n",
       "2242                                        It was okay   \n",
       "2243  Teachers in google class are approachable so I...   \n",
       "2244  The online class is help to us not exposed in ...   \n",
       "2245                                So hard but amazing   \n",
       "\n",
       "                                           UpperMessage  \n",
       "0     MY EXPERIENCE IN ONLINE CLASS, SO FAR IT WAS A...  \n",
       "1     MY ONLINE ENROLLMET EXPERIENCE WAS NOT EASY, B...  \n",
       "2     MY ONLINE ENROLLMENT EXPERIENCE WAS SLIGHTLY H...  \n",
       "3     THIS QUESTION SEEMS VAGUE TO ME. ONLINE ENROLL...  \n",
       "4     NOT EASY TO FIND A CONNECTION TO ANSWER THE QU...  \n",
       "...                                                 ...  \n",
       "2241  IT CAN HELPS US TO STUDY MORE TO UNDERSTAND OU...  \n",
       "2242                                        IT WAS OKAY  \n",
       "2243  TEACHERS IN GOOGLE CLASS ARE APPROACHABLE SO I...  \n",
       "2244  THE ONLINE CLASS IS HELP TO US NOT EXPOSED IN ...  \n",
       "2245                                SO HARD BUT AMAZING  \n",
       "\n",
       "[2246 rows x 5 columns]"
      ]
     },
     "execution_count": 34,
     "metadata": {},
     "output_type": "execute_result"
    }
   ],
   "source": [
    "data"
   ]
  },
  {
   "cell_type": "code",
   "execution_count": null,
   "id": "206d18bc",
   "metadata": {},
   "outputs": [],
   "source": [
    "for column in data.columns:\n",
    "    data[column] = data[column].str.strip()"
   ]
  },
  {
   "cell_type": "code",
   "execution_count": null,
   "id": "238816e8",
   "metadata": {},
   "outputs": [],
   "source": [
    "data.info()"
   ]
  },
  {
   "cell_type": "code",
   "execution_count": 31,
   "id": "9638b224",
   "metadata": {},
   "outputs": [
    {
     "data": {
      "text/plain": [
       "0       my experience in online class, so far it was a...\n",
       "1       my online enrollmet experience was not easy, b...\n",
       "2       my online enrollment experience was slightly h...\n",
       "3       this question seems vague to me. online enroll...\n",
       "4       not easy to find a connection to answer the qu...\n",
       "                              ...                        \n",
       "2241    it can helps us to study more to understand ou...\n",
       "2242                                          it was okay\n",
       "2243    teachers in google class are approachable so i...\n",
       "2244    the online class is help to us not exposed in ...\n",
       "2245                                  so hard but amazing\n",
       "Name: Message, Length: 2246, dtype: object"
      ]
     },
     "execution_count": 31,
     "metadata": {},
     "output_type": "execute_result"
    }
   ],
   "source": [
    "data['Message'].str.lower()"
   ]
  },
  {
   "cell_type": "code",
   "execution_count": 32,
   "id": "9dddbd13",
   "metadata": {},
   "outputs": [
    {
     "data": {
      "text/plain": [
       "0       MY EXPERIENCE IN ONLINE CLASS, SO FAR IT WAS A...\n",
       "1       MY ONLINE ENROLLMET EXPERIENCE WAS NOT EASY, B...\n",
       "2       MY ONLINE ENROLLMENT EXPERIENCE WAS SLIGHTLY H...\n",
       "3       THIS QUESTION SEEMS VAGUE TO ME. ONLINE ENROLL...\n",
       "4       NOT EASY TO FIND A CONNECTION TO ANSWER THE QU...\n",
       "                              ...                        \n",
       "2241    IT CAN HELPS US TO STUDY MORE TO UNDERSTAND OU...\n",
       "2242                                          IT WAS OKAY\n",
       "2243    TEACHERS IN GOOGLE CLASS ARE APPROACHABLE SO I...\n",
       "2244    THE ONLINE CLASS IS HELP TO US NOT EXPOSED IN ...\n",
       "2245                                  SO HARD BUT AMAZING\n",
       "Name: Message, Length: 2246, dtype: object"
      ]
     },
     "execution_count": 32,
     "metadata": {},
     "output_type": "execute_result"
    }
   ],
   "source": [
    "data['Message'].str.upper()"
   ]
  },
  {
   "cell_type": "code",
   "execution_count": null,
   "id": "d1c0bb2f",
   "metadata": {},
   "outputs": [],
   "source": [
    "data['Message'].str.capitalize()"
   ]
  },
  {
   "cell_type": "code",
   "execution_count": null,
   "id": "65eb96e0",
   "metadata": {},
   "outputs": [],
   "source": [
    "data['Message'].str.title()"
   ]
  },
  {
   "cell_type": "code",
   "execution_count": null,
   "id": "7d606824",
   "metadata": {},
   "outputs": [],
   "source": [
    "data.head()"
   ]
  },
  {
   "cell_type": "code",
   "execution_count": 36,
   "id": "b538ed2a",
   "metadata": {},
   "outputs": [
    {
     "data": {
      "text/plain": [
       "(2246, 5)"
      ]
     },
     "execution_count": 36,
     "metadata": {},
     "output_type": "execute_result"
    }
   ],
   "source": [
    "data.shape"
   ]
  },
  {
   "cell_type": "code",
   "execution_count": 35,
   "id": "0415609b",
   "metadata": {},
   "outputs": [
    {
     "data": {
      "text/plain": [
       "2246"
      ]
     },
     "execution_count": 35,
     "metadata": {},
     "output_type": "execute_result"
    }
   ],
   "source": [
    "len(data)"
   ]
  },
  {
   "cell_type": "code",
   "execution_count": 37,
   "id": "f5fc5785",
   "metadata": {},
   "outputs": [
    {
     "data": {
      "text/html": [
       "<div>\n",
       "<style scoped>\n",
       "    .dataframe tbody tr th:only-of-type {\n",
       "        vertical-align: middle;\n",
       "    }\n",
       "\n",
       "    .dataframe tbody tr th {\n",
       "        vertical-align: top;\n",
       "    }\n",
       "\n",
       "    .dataframe thead th {\n",
       "        text-align: right;\n",
       "    }\n",
       "</style>\n",
       "<table border=\"1\" class=\"dataframe\">\n",
       "  <thead>\n",
       "    <tr style=\"text-align: right;\">\n",
       "      <th></th>\n",
       "      <th>Timestamp</th>\n",
       "      <th>Polarity</th>\n",
       "      <th>Message</th>\n",
       "      <th>StripMessage</th>\n",
       "      <th>UpperMessage</th>\n",
       "    </tr>\n",
       "  </thead>\n",
       "  <tbody>\n",
       "    <tr>\n",
       "      <th>0</th>\n",
       "      <td>26/07/2021 14:20:57</td>\n",
       "      <td>Negative</td>\n",
       "      <td>My experience in online class, so far it was a...</td>\n",
       "      <td>My experience in online class, so far it was a...</td>\n",
       "      <td>MY EXPERIENCE IN ONLINE CLASS, SO FAR IT WAS A...</td>\n",
       "    </tr>\n",
       "    <tr>\n",
       "      <th>1</th>\n",
       "      <td>26/07/2021 14:34:07</td>\n",
       "      <td>Negative</td>\n",
       "      <td>My online enrollmet experience was not easy, b...</td>\n",
       "      <td>My online enrollmet experience was not easy, b...</td>\n",
       "      <td>MY ONLINE ENROLLMET EXPERIENCE WAS NOT EASY, B...</td>\n",
       "    </tr>\n",
       "    <tr>\n",
       "      <th>2</th>\n",
       "      <td>26/07/2021 15:43:26</td>\n",
       "      <td>Negative</td>\n",
       "      <td>My online enrollment experience was slightly h...</td>\n",
       "      <td>My online enrollment experience was slightly h...</td>\n",
       "      <td>MY ONLINE ENROLLMENT EXPERIENCE WAS SLIGHTLY H...</td>\n",
       "    </tr>\n",
       "    <tr>\n",
       "      <th>3</th>\n",
       "      <td>26/07/2021 16:09:39</td>\n",
       "      <td>Negative</td>\n",
       "      <td>This question seems vague to me. Online enroll...</td>\n",
       "      <td>This question seems vague to me. Online enroll...</td>\n",
       "      <td>THIS QUESTION SEEMS VAGUE TO ME. ONLINE ENROLL...</td>\n",
       "    </tr>\n",
       "    <tr>\n",
       "      <th>4</th>\n",
       "      <td>26/07/2021 23:12:21</td>\n",
       "      <td>Negative</td>\n",
       "      <td>Not easy to find a connection to answer the qu...</td>\n",
       "      <td>Not easy to find a connection to answer the qu...</td>\n",
       "      <td>NOT EASY TO FIND A CONNECTION TO ANSWER THE QU...</td>\n",
       "    </tr>\n",
       "    <tr>\n",
       "      <th>...</th>\n",
       "      <td>...</td>\n",
       "      <td>...</td>\n",
       "      <td>...</td>\n",
       "      <td>...</td>\n",
       "      <td>...</td>\n",
       "    </tr>\n",
       "    <tr>\n",
       "      <th>2241</th>\n",
       "      <td>29/07/2021 22:46:10</td>\n",
       "      <td>Positive</td>\n",
       "      <td>It can helps us to study more to understand ou...</td>\n",
       "      <td>It can helps us to study more to understand ou...</td>\n",
       "      <td>IT CAN HELPS US TO STUDY MORE TO UNDERSTAND OU...</td>\n",
       "    </tr>\n",
       "    <tr>\n",
       "      <th>2242</th>\n",
       "      <td>30/07/2021 15:16:13</td>\n",
       "      <td>Positive</td>\n",
       "      <td>It was okay</td>\n",
       "      <td>It was okay</td>\n",
       "      <td>IT WAS OKAY</td>\n",
       "    </tr>\n",
       "    <tr>\n",
       "      <th>2243</th>\n",
       "      <td>1/8/2021 14:30</td>\n",
       "      <td>Positive</td>\n",
       "      <td>Teachers in google class are approachable so I...</td>\n",
       "      <td>Teachers in google class are approachable so I...</td>\n",
       "      <td>TEACHERS IN GOOGLE CLASS ARE APPROACHABLE SO I...</td>\n",
       "    </tr>\n",
       "    <tr>\n",
       "      <th>2244</th>\n",
       "      <td>29/07/2021 08:11:49</td>\n",
       "      <td>Positive</td>\n",
       "      <td>The online class is help to us not exposed in ...</td>\n",
       "      <td>The online class is help to us not exposed in ...</td>\n",
       "      <td>THE ONLINE CLASS IS HELP TO US NOT EXPOSED IN ...</td>\n",
       "    </tr>\n",
       "    <tr>\n",
       "      <th>2245</th>\n",
       "      <td>29/07/2021 16:56:30</td>\n",
       "      <td>Positive</td>\n",
       "      <td>So hard but amazing</td>\n",
       "      <td>So hard but amazing</td>\n",
       "      <td>SO HARD BUT AMAZING</td>\n",
       "    </tr>\n",
       "  </tbody>\n",
       "</table>\n",
       "<p>2246 rows × 5 columns</p>\n",
       "</div>"
      ],
      "text/plain": [
       "                Timestamp  Polarity  \\\n",
       "0     26/07/2021 14:20:57  Negative   \n",
       "1     26/07/2021 14:34:07  Negative   \n",
       "2     26/07/2021 15:43:26  Negative   \n",
       "3     26/07/2021 16:09:39  Negative   \n",
       "4     26/07/2021 23:12:21  Negative   \n",
       "...                   ...       ...   \n",
       "2241  29/07/2021 22:46:10  Positive   \n",
       "2242  30/07/2021 15:16:13  Positive   \n",
       "2243       1/8/2021 14:30  Positive   \n",
       "2244  29/07/2021 08:11:49  Positive   \n",
       "2245  29/07/2021 16:56:30  Positive   \n",
       "\n",
       "                                                Message  \\\n",
       "0     My experience in online class, so far it was a...   \n",
       "1     My online enrollmet experience was not easy, b...   \n",
       "2     My online enrollment experience was slightly h...   \n",
       "3     This question seems vague to me. Online enroll...   \n",
       "4     Not easy to find a connection to answer the qu...   \n",
       "...                                                 ...   \n",
       "2241  It can helps us to study more to understand ou...   \n",
       "2242                                        It was okay   \n",
       "2243  Teachers in google class are approachable so I...   \n",
       "2244  The online class is help to us not exposed in ...   \n",
       "2245                                So hard but amazing   \n",
       "\n",
       "                                           StripMessage  \\\n",
       "0     My experience in online class, so far it was a...   \n",
       "1     My online enrollmet experience was not easy, b...   \n",
       "2     My online enrollment experience was slightly h...   \n",
       "3     This question seems vague to me. Online enroll...   \n",
       "4     Not easy to find a connection to answer the qu...   \n",
       "...                                                 ...   \n",
       "2241  It can helps us to study more to understand ou...   \n",
       "2242                                        It was okay   \n",
       "2243  Teachers in google class are approachable so I...   \n",
       "2244  The online class is help to us not exposed in ...   \n",
       "2245                                So hard but amazing   \n",
       "\n",
       "                                           UpperMessage  \n",
       "0     MY EXPERIENCE IN ONLINE CLASS, SO FAR IT WAS A...  \n",
       "1     MY ONLINE ENROLLMET EXPERIENCE WAS NOT EASY, B...  \n",
       "2     MY ONLINE ENROLLMENT EXPERIENCE WAS SLIGHTLY H...  \n",
       "3     THIS QUESTION SEEMS VAGUE TO ME. ONLINE ENROLL...  \n",
       "4     NOT EASY TO FIND A CONNECTION TO ANSWER THE QU...  \n",
       "...                                                 ...  \n",
       "2241  IT CAN HELPS US TO STUDY MORE TO UNDERSTAND OU...  \n",
       "2242                                        IT WAS OKAY  \n",
       "2243  TEACHERS IN GOOGLE CLASS ARE APPROACHABLE SO I...  \n",
       "2244  THE ONLINE CLASS IS HELP TO US NOT EXPOSED IN ...  \n",
       "2245                                SO HARD BUT AMAZING  \n",
       "\n",
       "[2246 rows x 5 columns]"
      ]
     },
     "execution_count": 37,
     "metadata": {},
     "output_type": "execute_result"
    }
   ],
   "source": [
    "data"
   ]
  },
  {
   "cell_type": "code",
   "execution_count": 38,
   "id": "4b894c36",
   "metadata": {},
   "outputs": [
    {
     "data": {
      "text/plain": [
       "Positive    1397\n",
       "Negative     849\n",
       "Name: Polarity, dtype: int64"
      ]
     },
     "execution_count": 38,
     "metadata": {},
     "output_type": "execute_result"
    }
   ],
   "source": [
    "data['Polarity'].value_counts()"
   ]
  },
  {
   "cell_type": "code",
   "execution_count": null,
   "id": "b2af66dd",
   "metadata": {},
   "outputs": [],
   "source": [
    "data['Polarity'].value_counts(dropna=True)"
   ]
  },
  {
   "cell_type": "code",
   "execution_count": null,
   "id": "d77b4d4f",
   "metadata": {},
   "outputs": [],
   "source": [
    "data.dropna(subset = [\"Polarity\"], inplace = True)"
   ]
  },
  {
   "cell_type": "code",
   "execution_count": null,
   "id": "ba6f7399",
   "metadata": {},
   "outputs": [],
   "source": [
    "data.replace(\n",
    "    to_replace = \"All\",\n",
    "    value = \"Unknown Polarity\",\n",
    "    inplace = True\n",
    "\n",
    ")"
   ]
  },
  {
   "cell_type": "code",
   "execution_count": null,
   "id": "fd633280",
   "metadata": {},
   "outputs": [],
   "source": [
    "data['Polarity'].value_counts(dropna=True)"
   ]
  },
  {
   "cell_type": "code",
   "execution_count": null,
   "id": "da79095e",
   "metadata": {},
   "outputs": [],
   "source": [
    "data[\"Message\"].head()"
   ]
  },
  {
   "cell_type": "code",
   "execution_count": null,
   "id": "3e037817",
   "metadata": {},
   "outputs": [],
   "source": [
    "data[\"Message\"].str.slice(0,1)"
   ]
  },
  {
   "cell_type": "code",
   "execution_count": null,
   "id": "b9abbbfc",
   "metadata": {},
   "outputs": [],
   "source": [
    "\"Welcome\"[5:]"
   ]
  },
  {
   "cell_type": "code",
   "execution_count": null,
   "id": "93a9249c",
   "metadata": {},
   "outputs": [],
   "source": [
    "\"Welcome\"[5:-1]"
   ]
  },
  {
   "cell_type": "markdown",
   "id": "b9a68987",
   "metadata": {},
   "source": [
    "# Boolean Methods"
   ]
  },
  {
   "cell_type": "code",
   "execution_count": 42,
   "id": "dc4f114e",
   "metadata": {},
   "outputs": [
    {
     "data": {
      "text/plain": [
       "True"
      ]
     },
     "execution_count": 42,
     "metadata": {},
     "output_type": "execute_result"
    }
   ],
   "source": [
    "\"pizza\" in \"Jet's Pizza\".lower()"
   ]
  },
  {
   "cell_type": "code",
   "execution_count": 43,
   "id": "3d58cfce",
   "metadata": {},
   "outputs": [
    {
     "data": {
      "text/plain": [
       "False"
      ]
     },
     "execution_count": 43,
     "metadata": {},
     "output_type": "execute_result"
    }
   ],
   "source": [
    "\"Tuna\" in \"Jet's Pizza\""
   ]
  },
  {
   "cell_type": "code",
   "execution_count": 44,
   "id": "1a29b255",
   "metadata": {},
   "outputs": [
    {
     "data": {
      "text/html": [
       "<div>\n",
       "<style scoped>\n",
       "    .dataframe tbody tr th:only-of-type {\n",
       "        vertical-align: middle;\n",
       "    }\n",
       "\n",
       "    .dataframe tbody tr th {\n",
       "        vertical-align: top;\n",
       "    }\n",
       "\n",
       "    .dataframe thead th {\n",
       "        text-align: right;\n",
       "    }\n",
       "</style>\n",
       "<table border=\"1\" class=\"dataframe\">\n",
       "  <thead>\n",
       "    <tr style=\"text-align: right;\">\n",
       "      <th></th>\n",
       "      <th>Timestamp</th>\n",
       "      <th>Polarity</th>\n",
       "      <th>Message</th>\n",
       "      <th>StripMessage</th>\n",
       "      <th>UpperMessage</th>\n",
       "    </tr>\n",
       "  </thead>\n",
       "  <tbody>\n",
       "    <tr>\n",
       "      <th>0</th>\n",
       "      <td>26/07/2021 14:20:57</td>\n",
       "      <td>Negative</td>\n",
       "      <td>My experience in online class, so far it was a...</td>\n",
       "      <td>My experience in online class, so far it was a...</td>\n",
       "      <td>MY EXPERIENCE IN ONLINE CLASS, SO FAR IT WAS A...</td>\n",
       "    </tr>\n",
       "    <tr>\n",
       "      <th>1</th>\n",
       "      <td>26/07/2021 14:34:07</td>\n",
       "      <td>Negative</td>\n",
       "      <td>My online enrollmet experience was not easy, b...</td>\n",
       "      <td>My online enrollmet experience was not easy, b...</td>\n",
       "      <td>MY ONLINE ENROLLMET EXPERIENCE WAS NOT EASY, B...</td>\n",
       "    </tr>\n",
       "    <tr>\n",
       "      <th>2</th>\n",
       "      <td>26/07/2021 15:43:26</td>\n",
       "      <td>Negative</td>\n",
       "      <td>My online enrollment experience was slightly h...</td>\n",
       "      <td>My online enrollment experience was slightly h...</td>\n",
       "      <td>MY ONLINE ENROLLMENT EXPERIENCE WAS SLIGHTLY H...</td>\n",
       "    </tr>\n",
       "    <tr>\n",
       "      <th>3</th>\n",
       "      <td>26/07/2021 16:09:39</td>\n",
       "      <td>Negative</td>\n",
       "      <td>This question seems vague to me. Online enroll...</td>\n",
       "      <td>This question seems vague to me. Online enroll...</td>\n",
       "      <td>THIS QUESTION SEEMS VAGUE TO ME. ONLINE ENROLL...</td>\n",
       "    </tr>\n",
       "    <tr>\n",
       "      <th>4</th>\n",
       "      <td>26/07/2021 23:12:21</td>\n",
       "      <td>Negative</td>\n",
       "      <td>Not easy to find a connection to answer the qu...</td>\n",
       "      <td>Not easy to find a connection to answer the qu...</td>\n",
       "      <td>NOT EASY TO FIND A CONNECTION TO ANSWER THE QU...</td>\n",
       "    </tr>\n",
       "    <tr>\n",
       "      <th>...</th>\n",
       "      <td>...</td>\n",
       "      <td>...</td>\n",
       "      <td>...</td>\n",
       "      <td>...</td>\n",
       "      <td>...</td>\n",
       "    </tr>\n",
       "    <tr>\n",
       "      <th>2241</th>\n",
       "      <td>29/07/2021 22:46:10</td>\n",
       "      <td>Positive</td>\n",
       "      <td>It can helps us to study more to understand ou...</td>\n",
       "      <td>It can helps us to study more to understand ou...</td>\n",
       "      <td>IT CAN HELPS US TO STUDY MORE TO UNDERSTAND OU...</td>\n",
       "    </tr>\n",
       "    <tr>\n",
       "      <th>2242</th>\n",
       "      <td>30/07/2021 15:16:13</td>\n",
       "      <td>Positive</td>\n",
       "      <td>It was okay</td>\n",
       "      <td>It was okay</td>\n",
       "      <td>IT WAS OKAY</td>\n",
       "    </tr>\n",
       "    <tr>\n",
       "      <th>2243</th>\n",
       "      <td>1/8/2021 14:30</td>\n",
       "      <td>Positive</td>\n",
       "      <td>Teachers in google class are approachable so I...</td>\n",
       "      <td>Teachers in google class are approachable so I...</td>\n",
       "      <td>TEACHERS IN GOOGLE CLASS ARE APPROACHABLE SO I...</td>\n",
       "    </tr>\n",
       "    <tr>\n",
       "      <th>2244</th>\n",
       "      <td>29/07/2021 08:11:49</td>\n",
       "      <td>Positive</td>\n",
       "      <td>The online class is help to us not exposed in ...</td>\n",
       "      <td>The online class is help to us not exposed in ...</td>\n",
       "      <td>THE ONLINE CLASS IS HELP TO US NOT EXPOSED IN ...</td>\n",
       "    </tr>\n",
       "    <tr>\n",
       "      <th>2245</th>\n",
       "      <td>29/07/2021 16:56:30</td>\n",
       "      <td>Positive</td>\n",
       "      <td>So hard but amazing</td>\n",
       "      <td>So hard but amazing</td>\n",
       "      <td>SO HARD BUT AMAZING</td>\n",
       "    </tr>\n",
       "  </tbody>\n",
       "</table>\n",
       "<p>2246 rows × 5 columns</p>\n",
       "</div>"
      ],
      "text/plain": [
       "                Timestamp  Polarity  \\\n",
       "0     26/07/2021 14:20:57  Negative   \n",
       "1     26/07/2021 14:34:07  Negative   \n",
       "2     26/07/2021 15:43:26  Negative   \n",
       "3     26/07/2021 16:09:39  Negative   \n",
       "4     26/07/2021 23:12:21  Negative   \n",
       "...                   ...       ...   \n",
       "2241  29/07/2021 22:46:10  Positive   \n",
       "2242  30/07/2021 15:16:13  Positive   \n",
       "2243       1/8/2021 14:30  Positive   \n",
       "2244  29/07/2021 08:11:49  Positive   \n",
       "2245  29/07/2021 16:56:30  Positive   \n",
       "\n",
       "                                                Message  \\\n",
       "0     My experience in online class, so far it was a...   \n",
       "1     My online enrollmet experience was not easy, b...   \n",
       "2     My online enrollment experience was slightly h...   \n",
       "3     This question seems vague to me. Online enroll...   \n",
       "4     Not easy to find a connection to answer the qu...   \n",
       "...                                                 ...   \n",
       "2241  It can helps us to study more to understand ou...   \n",
       "2242                                        It was okay   \n",
       "2243  Teachers in google class are approachable so I...   \n",
       "2244  The online class is help to us not exposed in ...   \n",
       "2245                                So hard but amazing   \n",
       "\n",
       "                                           StripMessage  \\\n",
       "0     My experience in online class, so far it was a...   \n",
       "1     My online enrollmet experience was not easy, b...   \n",
       "2     My online enrollment experience was slightly h...   \n",
       "3     This question seems vague to me. Online enroll...   \n",
       "4     Not easy to find a connection to answer the qu...   \n",
       "...                                                 ...   \n",
       "2241  It can helps us to study more to understand ou...   \n",
       "2242                                        It was okay   \n",
       "2243  Teachers in google class are approachable so I...   \n",
       "2244  The online class is help to us not exposed in ...   \n",
       "2245                                So hard but amazing   \n",
       "\n",
       "                                           UpperMessage  \n",
       "0     MY EXPERIENCE IN ONLINE CLASS, SO FAR IT WAS A...  \n",
       "1     MY ONLINE ENROLLMET EXPERIENCE WAS NOT EASY, B...  \n",
       "2     MY ONLINE ENROLLMENT EXPERIENCE WAS SLIGHTLY H...  \n",
       "3     THIS QUESTION SEEMS VAGUE TO ME. ONLINE ENROLL...  \n",
       "4     NOT EASY TO FIND A CONNECTION TO ANSWER THE QU...  \n",
       "...                                                 ...  \n",
       "2241  IT CAN HELPS US TO STUDY MORE TO UNDERSTAND OU...  \n",
       "2242                                        IT WAS OKAY  \n",
       "2243  TEACHERS IN GOOGLE CLASS ARE APPROACHABLE SO I...  \n",
       "2244  THE ONLINE CLASS IS HELP TO US NOT EXPOSED IN ...  \n",
       "2245                                SO HARD BUT AMAZING  \n",
       "\n",
       "[2246 rows x 5 columns]"
      ]
     },
     "execution_count": 44,
     "metadata": {},
     "output_type": "execute_result"
    }
   ],
   "source": [
    "data"
   ]
  },
  {
   "cell_type": "code",
   "execution_count": 45,
   "id": "0473362e",
   "metadata": {},
   "outputs": [
    {
     "name": "stdout",
     "output_type": "stream",
     "text": [
      "Counter({False: 1569, True: 677})\n",
      "False = 1569\n",
      "True = 677\n"
     ]
    },
    {
     "data": {
      "text/plain": [
       "677.0"
      ]
     },
     "execution_count": 45,
     "metadata": {},
     "output_type": "execute_result"
    }
   ],
   "source": [
    "from collections import Counter\n",
    "has_online = Counter(data[\"Message\"].str.lower().str.contains(\"online\"))\n",
    "\n",
    "print(has_online)\n",
    "print(\"False =\",has_online[0] )\n",
    "print(\"True =\",has_online[1] )\n",
    "\n",
    "\n",
    "has_online[1]  / 1\n",
    "\n"
   ]
  },
  {
   "cell_type": "code",
   "execution_count": 46,
   "id": "9682e0b9",
   "metadata": {},
   "outputs": [
    {
     "ename": "TypeError",
     "evalue": "unhashable type: 'Series'",
     "output_type": "error",
     "traceback": [
      "\u001b[1;31m---------------------------------------------------------------------------\u001b[0m",
      "\u001b[1;31mTypeError\u001b[0m                                 Traceback (most recent call last)",
      "Input \u001b[1;32mIn [46]\u001b[0m, in \u001b[0;36m<cell line: 1>\u001b[1;34m()\u001b[0m\n\u001b[1;32m----> 1\u001b[0m \u001b[38;5;28mprint\u001b[39m(\u001b[43mhas_online\u001b[49m\u001b[43m[\u001b[49m\u001b[43mdata\u001b[49m\u001b[38;5;241;43m.\u001b[39;49m\u001b[43mPolarity\u001b[49m\u001b[38;5;241;43m==\u001b[39;49m\u001b[38;5;124;43m\"\u001b[39;49m\u001b[38;5;124;43mPositive\u001b[39;49m\u001b[38;5;124;43m\"\u001b[39;49m\u001b[43m]\u001b[49m\u001b[38;5;241m.\u001b[39mvalue_counts()\u001b[38;5;241m.\u001b[39mkeys()\u001b[38;5;241m.\u001b[39mtolist())\n\u001b[0;32m      2\u001b[0m \u001b[38;5;28mprint\u001b[39m(has_online[data\u001b[38;5;241m.\u001b[39mPolarity\u001b[38;5;241m==\u001b[39m\u001b[38;5;124m\"\u001b[39m\u001b[38;5;124mPositive\u001b[39m\u001b[38;5;124m\"\u001b[39m]\u001b[38;5;241m.\u001b[39mvalue_counts()\u001b[38;5;241m.\u001b[39mtolist())\n\u001b[0;32m      3\u001b[0m \u001b[38;5;28mprint\u001b[39m(has_online[data\u001b[38;5;241m.\u001b[39mPolarity\u001b[38;5;241m==\u001b[39m\u001b[38;5;124m\"\u001b[39m\u001b[38;5;124mNegative\u001b[39m\u001b[38;5;124m\"\u001b[39m]\u001b[38;5;241m.\u001b[39mvalue_counts()\u001b[38;5;241m.\u001b[39mkeys()\u001b[38;5;241m.\u001b[39mtolist())\n",
      "\u001b[1;31mTypeError\u001b[0m: unhashable type: 'Series'"
     ]
    }
   ],
   "source": [
    "\n",
    "print(has_online[data.Polarity==\"Positive\"].value_counts().keys().tolist())\n",
    "print(has_online[data.Polarity==\"Positive\"].value_counts().tolist())\n",
    "print(has_online[data.Polarity==\"Negative\"].value_counts().keys().tolist())\n",
    "print(has_online[data.Polarity==\"Negative\"].value_counts().tolist())"
   ]
  },
  {
   "cell_type": "code",
   "execution_count": null,
   "id": "8ea02f6f",
   "metadata": {},
   "outputs": [],
   "source": [
    "data.Polarity[has_online].isnull().sum() "
   ]
  },
  {
   "cell_type": "code",
   "execution_count": null,
   "id": "53351856",
   "metadata": {},
   "outputs": [],
   "source": [
    "res = pd.DataFrame(data[has_online])\n",
    "res.groupby(['Polarity']).size()"
   ]
  },
  {
   "cell_type": "code",
   "execution_count": 47,
   "id": "33255fa1",
   "metadata": {},
   "outputs": [
    {
     "data": {
      "text/plain": [
       "0       False\n",
       "1       False\n",
       "2       False\n",
       "3       False\n",
       "4       False\n",
       "        ...  \n",
       "2241    False\n",
       "2242    False\n",
       "2243    False\n",
       "2244    False\n",
       "2245    False\n",
       "Name: Polarity, Length: 2246, dtype: bool"
      ]
     },
     "execution_count": 47,
     "metadata": {},
     "output_type": "execute_result"
    }
   ],
   "source": [
    "data.Polarity.isin(has_online)"
   ]
  },
  {
   "cell_type": "code",
   "execution_count": null,
   "id": "fa2f461a",
   "metadata": {},
   "outputs": [],
   "source": [
    "res = pd.DataFrame(data[has_online])\n",
    "\n",
    "print(res[\"Polarity\"].value_counts().keys().tolist())\n",
    "print(res[\"Polarity\"].value_counts().tolist())"
   ]
  },
  {
   "cell_type": "code",
   "execution_count": null,
   "id": "2de6dcfe",
   "metadata": {},
   "outputs": [],
   "source": [
    "data[has_online].Polarity.value_counts().tolist()\n",
    "\n",
    "true_count = (data[has_online].Polarity).value_counts()[True]\n",
    "#False_count = (data[has_online].Polarity).value_counts()[False]\n"
   ]
  },
  {
   "cell_type": "code",
   "execution_count": null,
   "id": "8ce63bd2",
   "metadata": {},
   "outputs": [],
   "source": [
    "starts_with_My = data[\"Message\"].str.lower().str.startswith(\"My\")\n",
    "starts_with_My"
   ]
  },
  {
   "cell_type": "code",
   "execution_count": null,
   "id": "b246b46a",
   "metadata": {},
   "outputs": [],
   "source": [
    "res = pd.DataFrame(data[has_online])"
   ]
  },
  {
   "cell_type": "code",
   "execution_count": null,
   "id": "3ed50118",
   "metadata": {},
   "outputs": [],
   "source": [
    "res['Polarity'].value_counts().tolist()\n",
    "\n",
    "#.reindex(new_index, fill_value=0)"
   ]
  },
  {
   "cell_type": "code",
   "execution_count": null,
   "id": "d8b6134c",
   "metadata": {},
   "outputs": [],
   "source": [
    "res['Polarity'].value_counts().to_frame()"
   ]
  },
  {
   "cell_type": "code",
   "execution_count": null,
   "id": "80f8b185",
   "metadata": {},
   "outputs": [],
   "source": [
    "classes = res['Polarity'].value_counts().keys().tolist()\n"
   ]
  },
  {
   "cell_type": "code",
   "execution_count": null,
   "id": "b279f276",
   "metadata": {},
   "outputs": [],
   "source": [
    "term1 = res['Polarity'].value_counts().tolist()"
   ]
  },
  {
   "cell_type": "code",
   "execution_count": null,
   "id": "ac7c9909",
   "metadata": {},
   "outputs": [],
   "source": [
    "import pandas as pd\n",
    "\n",
    "filter_values = [0, 10, 20, 30]  # Bucket Values for pd.cut\n",
    "\n",
    "#Sample Times\n",
    "df1 = pd.DataFrame([1, 3, 8, 20], columns  = ['filtercol'])\n",
    "\n",
    "#Use cut to get counts for each bucket\n",
    "out = pd.cut(df1.filtercol, bins = filter_values)\n",
    "counts = pd.value_counts(out)\n",
    "print counts\n",
    "-------------\n",
    "pd.value_counts(out).reindex(out.levels, fill_value=0)\n"
   ]
  },
  {
   "cell_type": "code",
   "execution_count": null,
   "id": "8b1ddc12",
   "metadata": {},
   "outputs": [],
   "source": []
  },
  {
   "cell_type": "code",
   "execution_count": null,
   "id": "5a99771c",
   "metadata": {},
   "outputs": [],
   "source": [
    "term1\n"
   ]
  },
  {
   "cell_type": "code",
   "execution_count": null,
   "id": "6e055d19",
   "metadata": {},
   "outputs": [],
   "source": [
    "classes"
   ]
  },
  {
   "cell_type": "code",
   "execution_count": null,
   "id": "95ffaf28",
   "metadata": {},
   "outputs": [],
   "source": []
  },
  {
   "cell_type": "markdown",
   "id": "e08b7dba",
   "metadata": {},
   "source": [
    "# Splitting String"
   ]
  },
  {
   "cell_type": "code",
   "execution_count": 48,
   "id": "eb09a96c",
   "metadata": {},
   "outputs": [
    {
     "data": {
      "text/html": [
       "<div>\n",
       "<style scoped>\n",
       "    .dataframe tbody tr th:only-of-type {\n",
       "        vertical-align: middle;\n",
       "    }\n",
       "\n",
       "    .dataframe tbody tr th {\n",
       "        vertical-align: top;\n",
       "    }\n",
       "\n",
       "    .dataframe thead th {\n",
       "        text-align: right;\n",
       "    }\n",
       "</style>\n",
       "<table border=\"1\" class=\"dataframe\">\n",
       "  <thead>\n",
       "    <tr style=\"text-align: right;\">\n",
       "      <th></th>\n",
       "      <th>Timestamp</th>\n",
       "      <th>Polarity</th>\n",
       "      <th>Message</th>\n",
       "      <th>StripMessage</th>\n",
       "      <th>UpperMessage</th>\n",
       "    </tr>\n",
       "  </thead>\n",
       "  <tbody>\n",
       "    <tr>\n",
       "      <th>0</th>\n",
       "      <td>26/07/2021 14:20:57</td>\n",
       "      <td>Negative</td>\n",
       "      <td>My experience in online class, so far it was a...</td>\n",
       "      <td>My experience in online class, so far it was a...</td>\n",
       "      <td>MY EXPERIENCE IN ONLINE CLASS, SO FAR IT WAS A...</td>\n",
       "    </tr>\n",
       "    <tr>\n",
       "      <th>1</th>\n",
       "      <td>26/07/2021 14:34:07</td>\n",
       "      <td>Negative</td>\n",
       "      <td>My online enrollmet experience was not easy, b...</td>\n",
       "      <td>My online enrollmet experience was not easy, b...</td>\n",
       "      <td>MY ONLINE ENROLLMET EXPERIENCE WAS NOT EASY, B...</td>\n",
       "    </tr>\n",
       "    <tr>\n",
       "      <th>2</th>\n",
       "      <td>26/07/2021 15:43:26</td>\n",
       "      <td>Negative</td>\n",
       "      <td>My online enrollment experience was slightly h...</td>\n",
       "      <td>My online enrollment experience was slightly h...</td>\n",
       "      <td>MY ONLINE ENROLLMENT EXPERIENCE WAS SLIGHTLY H...</td>\n",
       "    </tr>\n",
       "    <tr>\n",
       "      <th>3</th>\n",
       "      <td>26/07/2021 16:09:39</td>\n",
       "      <td>Negative</td>\n",
       "      <td>This question seems vague to me. Online enroll...</td>\n",
       "      <td>This question seems vague to me. Online enroll...</td>\n",
       "      <td>THIS QUESTION SEEMS VAGUE TO ME. ONLINE ENROLL...</td>\n",
       "    </tr>\n",
       "    <tr>\n",
       "      <th>4</th>\n",
       "      <td>26/07/2021 23:12:21</td>\n",
       "      <td>Negative</td>\n",
       "      <td>Not easy to find a connection to answer the qu...</td>\n",
       "      <td>Not easy to find a connection to answer the qu...</td>\n",
       "      <td>NOT EASY TO FIND A CONNECTION TO ANSWER THE QU...</td>\n",
       "    </tr>\n",
       "    <tr>\n",
       "      <th>...</th>\n",
       "      <td>...</td>\n",
       "      <td>...</td>\n",
       "      <td>...</td>\n",
       "      <td>...</td>\n",
       "      <td>...</td>\n",
       "    </tr>\n",
       "    <tr>\n",
       "      <th>2241</th>\n",
       "      <td>29/07/2021 22:46:10</td>\n",
       "      <td>Positive</td>\n",
       "      <td>It can helps us to study more to understand ou...</td>\n",
       "      <td>It can helps us to study more to understand ou...</td>\n",
       "      <td>IT CAN HELPS US TO STUDY MORE TO UNDERSTAND OU...</td>\n",
       "    </tr>\n",
       "    <tr>\n",
       "      <th>2242</th>\n",
       "      <td>30/07/2021 15:16:13</td>\n",
       "      <td>Positive</td>\n",
       "      <td>It was okay</td>\n",
       "      <td>It was okay</td>\n",
       "      <td>IT WAS OKAY</td>\n",
       "    </tr>\n",
       "    <tr>\n",
       "      <th>2243</th>\n",
       "      <td>1/8/2021 14:30</td>\n",
       "      <td>Positive</td>\n",
       "      <td>Teachers in google class are approachable so I...</td>\n",
       "      <td>Teachers in google class are approachable so I...</td>\n",
       "      <td>TEACHERS IN GOOGLE CLASS ARE APPROACHABLE SO I...</td>\n",
       "    </tr>\n",
       "    <tr>\n",
       "      <th>2244</th>\n",
       "      <td>29/07/2021 08:11:49</td>\n",
       "      <td>Positive</td>\n",
       "      <td>The online class is help to us not exposed in ...</td>\n",
       "      <td>The online class is help to us not exposed in ...</td>\n",
       "      <td>THE ONLINE CLASS IS HELP TO US NOT EXPOSED IN ...</td>\n",
       "    </tr>\n",
       "    <tr>\n",
       "      <th>2245</th>\n",
       "      <td>29/07/2021 16:56:30</td>\n",
       "      <td>Positive</td>\n",
       "      <td>So hard but amazing</td>\n",
       "      <td>So hard but amazing</td>\n",
       "      <td>SO HARD BUT AMAZING</td>\n",
       "    </tr>\n",
       "  </tbody>\n",
       "</table>\n",
       "<p>2246 rows × 5 columns</p>\n",
       "</div>"
      ],
      "text/plain": [
       "                Timestamp  Polarity  \\\n",
       "0     26/07/2021 14:20:57  Negative   \n",
       "1     26/07/2021 14:34:07  Negative   \n",
       "2     26/07/2021 15:43:26  Negative   \n",
       "3     26/07/2021 16:09:39  Negative   \n",
       "4     26/07/2021 23:12:21  Negative   \n",
       "...                   ...       ...   \n",
       "2241  29/07/2021 22:46:10  Positive   \n",
       "2242  30/07/2021 15:16:13  Positive   \n",
       "2243       1/8/2021 14:30  Positive   \n",
       "2244  29/07/2021 08:11:49  Positive   \n",
       "2245  29/07/2021 16:56:30  Positive   \n",
       "\n",
       "                                                Message  \\\n",
       "0     My experience in online class, so far it was a...   \n",
       "1     My online enrollmet experience was not easy, b...   \n",
       "2     My online enrollment experience was slightly h...   \n",
       "3     This question seems vague to me. Online enroll...   \n",
       "4     Not easy to find a connection to answer the qu...   \n",
       "...                                                 ...   \n",
       "2241  It can helps us to study more to understand ou...   \n",
       "2242                                        It was okay   \n",
       "2243  Teachers in google class are approachable so I...   \n",
       "2244  The online class is help to us not exposed in ...   \n",
       "2245                                So hard but amazing   \n",
       "\n",
       "                                           StripMessage  \\\n",
       "0     My experience in online class, so far it was a...   \n",
       "1     My online enrollmet experience was not easy, b...   \n",
       "2     My online enrollment experience was slightly h...   \n",
       "3     This question seems vague to me. Online enroll...   \n",
       "4     Not easy to find a connection to answer the qu...   \n",
       "...                                                 ...   \n",
       "2241  It can helps us to study more to understand ou...   \n",
       "2242                                        It was okay   \n",
       "2243  Teachers in google class are approachable so I...   \n",
       "2244  The online class is help to us not exposed in ...   \n",
       "2245                                So hard but amazing   \n",
       "\n",
       "                                           UpperMessage  \n",
       "0     MY EXPERIENCE IN ONLINE CLASS, SO FAR IT WAS A...  \n",
       "1     MY ONLINE ENROLLMET EXPERIENCE WAS NOT EASY, B...  \n",
       "2     MY ONLINE ENROLLMENT EXPERIENCE WAS SLIGHTLY H...  \n",
       "3     THIS QUESTION SEEMS VAGUE TO ME. ONLINE ENROLL...  \n",
       "4     NOT EASY TO FIND A CONNECTION TO ANSWER THE QU...  \n",
       "...                                                 ...  \n",
       "2241  IT CAN HELPS US TO STUDY MORE TO UNDERSTAND OU...  \n",
       "2242                                        IT WAS OKAY  \n",
       "2243  TEACHERS IN GOOGLE CLASS ARE APPROACHABLE SO I...  \n",
       "2244  THE ONLINE CLASS IS HELP TO US NOT EXPOSED IN ...  \n",
       "2245                                SO HARD BUT AMAZING  \n",
       "\n",
       "[2246 rows x 5 columns]"
      ]
     },
     "execution_count": 48,
     "metadata": {},
     "output_type": "execute_result"
    }
   ],
   "source": [
    "data"
   ]
  },
  {
   "cell_type": "code",
   "execution_count": 53,
   "id": "a0d2d966",
   "metadata": {},
   "outputs": [
    {
     "data": {
      "text/plain": [
       "0       [26/07/2021, 14:20:57]\n",
       "1       [26/07/2021, 14:34:07]\n",
       "2       [26/07/2021, 15:43:26]\n",
       "3       [26/07/2021, 16:09:39]\n",
       "4       [26/07/2021, 23:12:21]\n",
       "                 ...          \n",
       "2241    [29/07/2021, 22:46:10]\n",
       "2242    [30/07/2021, 15:16:13]\n",
       "2243         [1/8/2021, 14:30]\n",
       "2244    [29/07/2021, 08:11:49]\n",
       "2245    [29/07/2021, 16:56:30]\n",
       "Name: Timestamp, Length: 2246, dtype: object"
      ]
     },
     "execution_count": 53,
     "metadata": {},
     "output_type": "execute_result"
    }
   ],
   "source": [
    "data['Timestamp'].str.split(\" \")"
   ]
  },
  {
   "cell_type": "code",
   "execution_count": 59,
   "id": "e18bb6ec",
   "metadata": {},
   "outputs": [
    {
     "data": {
      "text/html": [
       "<div>\n",
       "<style scoped>\n",
       "    .dataframe tbody tr th:only-of-type {\n",
       "        vertical-align: middle;\n",
       "    }\n",
       "\n",
       "    .dataframe tbody tr th {\n",
       "        vertical-align: top;\n",
       "    }\n",
       "\n",
       "    .dataframe thead th {\n",
       "        text-align: right;\n",
       "    }\n",
       "</style>\n",
       "<table border=\"1\" class=\"dataframe\">\n",
       "  <thead>\n",
       "    <tr style=\"text-align: right;\">\n",
       "      <th></th>\n",
       "      <th>Timestamp</th>\n",
       "      <th>Polarity</th>\n",
       "      <th>Message</th>\n",
       "      <th>TimestampTime</th>\n",
       "    </tr>\n",
       "  </thead>\n",
       "  <tbody>\n",
       "    <tr>\n",
       "      <th>0</th>\n",
       "      <td>26/07/2021 14:20:57</td>\n",
       "      <td>Negative</td>\n",
       "      <td>My experience in online class, so far it was a...</td>\n",
       "      <td>14:20:57</td>\n",
       "    </tr>\n",
       "    <tr>\n",
       "      <th>1</th>\n",
       "      <td>26/07/2021 14:34:07</td>\n",
       "      <td>Negative</td>\n",
       "      <td>My online enrollmet experience was not easy, b...</td>\n",
       "      <td>14:34:07</td>\n",
       "    </tr>\n",
       "    <tr>\n",
       "      <th>2</th>\n",
       "      <td>26/07/2021 15:43:26</td>\n",
       "      <td>Negative</td>\n",
       "      <td>My online enrollment experience was slightly h...</td>\n",
       "      <td>15:43:26</td>\n",
       "    </tr>\n",
       "    <tr>\n",
       "      <th>3</th>\n",
       "      <td>26/07/2021 16:09:39</td>\n",
       "      <td>Negative</td>\n",
       "      <td>This question seems vague to me. Online enroll...</td>\n",
       "      <td>16:09:39</td>\n",
       "    </tr>\n",
       "    <tr>\n",
       "      <th>4</th>\n",
       "      <td>26/07/2021 23:12:21</td>\n",
       "      <td>Negative</td>\n",
       "      <td>Not easy to find a connection to answer the qu...</td>\n",
       "      <td>23:12:21</td>\n",
       "    </tr>\n",
       "    <tr>\n",
       "      <th>...</th>\n",
       "      <td>...</td>\n",
       "      <td>...</td>\n",
       "      <td>...</td>\n",
       "      <td>...</td>\n",
       "    </tr>\n",
       "    <tr>\n",
       "      <th>2241</th>\n",
       "      <td>29/07/2021 22:46:10</td>\n",
       "      <td>Positive</td>\n",
       "      <td>It can helps us to study more to understand ou...</td>\n",
       "      <td>22:46:10</td>\n",
       "    </tr>\n",
       "    <tr>\n",
       "      <th>2242</th>\n",
       "      <td>30/07/2021 15:16:13</td>\n",
       "      <td>Positive</td>\n",
       "      <td>It was okay</td>\n",
       "      <td>15:16:13</td>\n",
       "    </tr>\n",
       "    <tr>\n",
       "      <th>2243</th>\n",
       "      <td>1/8/2021 14:30</td>\n",
       "      <td>Positive</td>\n",
       "      <td>Teachers in google class are approachable so I...</td>\n",
       "      <td>14:30</td>\n",
       "    </tr>\n",
       "    <tr>\n",
       "      <th>2244</th>\n",
       "      <td>29/07/2021 08:11:49</td>\n",
       "      <td>Positive</td>\n",
       "      <td>The online class is help to us not exposed in ...</td>\n",
       "      <td>08:11:49</td>\n",
       "    </tr>\n",
       "    <tr>\n",
       "      <th>2245</th>\n",
       "      <td>29/07/2021 16:56:30</td>\n",
       "      <td>Positive</td>\n",
       "      <td>So hard but amazing</td>\n",
       "      <td>16:56:30</td>\n",
       "    </tr>\n",
       "  </tbody>\n",
       "</table>\n",
       "<p>2246 rows × 4 columns</p>\n",
       "</div>"
      ],
      "text/plain": [
       "                Timestamp  Polarity  \\\n",
       "0     26/07/2021 14:20:57  Negative   \n",
       "1     26/07/2021 14:34:07  Negative   \n",
       "2     26/07/2021 15:43:26  Negative   \n",
       "3     26/07/2021 16:09:39  Negative   \n",
       "4     26/07/2021 23:12:21  Negative   \n",
       "...                   ...       ...   \n",
       "2241  29/07/2021 22:46:10  Positive   \n",
       "2242  30/07/2021 15:16:13  Positive   \n",
       "2243       1/8/2021 14:30  Positive   \n",
       "2244  29/07/2021 08:11:49  Positive   \n",
       "2245  29/07/2021 16:56:30  Positive   \n",
       "\n",
       "                                                Message TimestampTime  \n",
       "0     My experience in online class, so far it was a...      14:20:57  \n",
       "1     My online enrollmet experience was not easy, b...      14:34:07  \n",
       "2     My online enrollment experience was slightly h...      15:43:26  \n",
       "3     This question seems vague to me. Online enroll...      16:09:39  \n",
       "4     Not easy to find a connection to answer the qu...      23:12:21  \n",
       "...                                                 ...           ...  \n",
       "2241  It can helps us to study more to understand ou...      22:46:10  \n",
       "2242                                        It was okay      15:16:13  \n",
       "2243  Teachers in google class are approachable so I...         14:30  \n",
       "2244  The online class is help to us not exposed in ...      08:11:49  \n",
       "2245                                So hard but amazing      16:56:30  \n",
       "\n",
       "[2246 rows x 4 columns]"
      ]
     },
     "execution_count": 59,
     "metadata": {},
     "output_type": "execute_result"
    }
   ],
   "source": [
    "data[\"TimestampTime\"]=data['Timestamp'].str.split(\" \").str.get(1)\n",
    "data"
   ]
  },
  {
   "cell_type": "code",
   "execution_count": 60,
   "id": "6650a842",
   "metadata": {},
   "outputs": [
    {
     "data": {
      "text/plain": [
       "0       20\n",
       "1       34\n",
       "2       43\n",
       "3       09\n",
       "4       12\n",
       "        ..\n",
       "2241    46\n",
       "2242    16\n",
       "2243    30\n",
       "2244    11\n",
       "2245    56\n",
       "Name: TimestampTime, Length: 2246, dtype: object"
      ]
     },
     "execution_count": 60,
     "metadata": {},
     "output_type": "execute_result"
    }
   ],
   "source": [
    "data['TimestampTime'].str.split(\":\").str.get(1)\n"
   ]
  },
  {
   "cell_type": "code",
   "execution_count": null,
   "id": "9e90a6d4",
   "metadata": {},
   "outputs": [],
   "source": [
    "data['Timestamp'].str.split(\" \", expand=True)"
   ]
  },
  {
   "cell_type": "code",
   "execution_count": null,
   "id": "a793a85f",
   "metadata": {},
   "outputs": [],
   "source": [
    "data[['Date','Time']] = data['Timestamp'].str.split(\" \", expand=True)"
   ]
  },
  {
   "cell_type": "code",
   "execution_count": 52,
   "id": "d07c3487",
   "metadata": {},
   "outputs": [
    {
     "data": {
      "text/html": [
       "<div>\n",
       "<style scoped>\n",
       "    .dataframe tbody tr th:only-of-type {\n",
       "        vertical-align: middle;\n",
       "    }\n",
       "\n",
       "    .dataframe tbody tr th {\n",
       "        vertical-align: top;\n",
       "    }\n",
       "\n",
       "    .dataframe thead th {\n",
       "        text-align: right;\n",
       "    }\n",
       "</style>\n",
       "<table border=\"1\" class=\"dataframe\">\n",
       "  <thead>\n",
       "    <tr style=\"text-align: right;\">\n",
       "      <th></th>\n",
       "      <th>Timestamp</th>\n",
       "      <th>Polarity</th>\n",
       "      <th>Message</th>\n",
       "    </tr>\n",
       "  </thead>\n",
       "  <tbody>\n",
       "    <tr>\n",
       "      <th>0</th>\n",
       "      <td>26/07/2021 14:20:57</td>\n",
       "      <td>Negative</td>\n",
       "      <td>My experience in online class, so far it was a...</td>\n",
       "    </tr>\n",
       "    <tr>\n",
       "      <th>1</th>\n",
       "      <td>26/07/2021 14:34:07</td>\n",
       "      <td>Negative</td>\n",
       "      <td>My online enrollmet experience was not easy, b...</td>\n",
       "    </tr>\n",
       "    <tr>\n",
       "      <th>2</th>\n",
       "      <td>26/07/2021 15:43:26</td>\n",
       "      <td>Negative</td>\n",
       "      <td>My online enrollment experience was slightly h...</td>\n",
       "    </tr>\n",
       "    <tr>\n",
       "      <th>3</th>\n",
       "      <td>26/07/2021 16:09:39</td>\n",
       "      <td>Negative</td>\n",
       "      <td>This question seems vague to me. Online enroll...</td>\n",
       "    </tr>\n",
       "    <tr>\n",
       "      <th>4</th>\n",
       "      <td>26/07/2021 23:12:21</td>\n",
       "      <td>Negative</td>\n",
       "      <td>Not easy to find a connection to answer the qu...</td>\n",
       "    </tr>\n",
       "    <tr>\n",
       "      <th>...</th>\n",
       "      <td>...</td>\n",
       "      <td>...</td>\n",
       "      <td>...</td>\n",
       "    </tr>\n",
       "    <tr>\n",
       "      <th>2241</th>\n",
       "      <td>29/07/2021 22:46:10</td>\n",
       "      <td>Positive</td>\n",
       "      <td>It can helps us to study more to understand ou...</td>\n",
       "    </tr>\n",
       "    <tr>\n",
       "      <th>2242</th>\n",
       "      <td>30/07/2021 15:16:13</td>\n",
       "      <td>Positive</td>\n",
       "      <td>It was okay</td>\n",
       "    </tr>\n",
       "    <tr>\n",
       "      <th>2243</th>\n",
       "      <td>1/8/2021 14:30</td>\n",
       "      <td>Positive</td>\n",
       "      <td>Teachers in google class are approachable so I...</td>\n",
       "    </tr>\n",
       "    <tr>\n",
       "      <th>2244</th>\n",
       "      <td>29/07/2021 08:11:49</td>\n",
       "      <td>Positive</td>\n",
       "      <td>The online class is help to us not exposed in ...</td>\n",
       "    </tr>\n",
       "    <tr>\n",
       "      <th>2245</th>\n",
       "      <td>29/07/2021 16:56:30</td>\n",
       "      <td>Positive</td>\n",
       "      <td>So hard but amazing</td>\n",
       "    </tr>\n",
       "  </tbody>\n",
       "</table>\n",
       "<p>2246 rows × 3 columns</p>\n",
       "</div>"
      ],
      "text/plain": [
       "                Timestamp  Polarity  \\\n",
       "0     26/07/2021 14:20:57  Negative   \n",
       "1     26/07/2021 14:34:07  Negative   \n",
       "2     26/07/2021 15:43:26  Negative   \n",
       "3     26/07/2021 16:09:39  Negative   \n",
       "4     26/07/2021 23:12:21  Negative   \n",
       "...                   ...       ...   \n",
       "2241  29/07/2021 22:46:10  Positive   \n",
       "2242  30/07/2021 15:16:13  Positive   \n",
       "2243       1/8/2021 14:30  Positive   \n",
       "2244  29/07/2021 08:11:49  Positive   \n",
       "2245  29/07/2021 16:56:30  Positive   \n",
       "\n",
       "                                                Message  \n",
       "0     My experience in online class, so far it was a...  \n",
       "1     My online enrollmet experience was not easy, b...  \n",
       "2     My online enrollment experience was slightly h...  \n",
       "3     This question seems vague to me. Online enroll...  \n",
       "4     Not easy to find a connection to answer the qu...  \n",
       "...                                                 ...  \n",
       "2241  It can helps us to study more to understand ou...  \n",
       "2242                                        It was okay  \n",
       "2243  Teachers in google class are approachable so I...  \n",
       "2244  The online class is help to us not exposed in ...  \n",
       "2245                                So hard but amazing  \n",
       "\n",
       "[2246 rows x 3 columns]"
      ]
     },
     "execution_count": 52,
     "metadata": {},
     "output_type": "execute_result"
    }
   ],
   "source": [
    "data"
   ]
  },
  {
   "cell_type": "code",
   "execution_count": 51,
   "id": "c3dbd2a5",
   "metadata": {},
   "outputs": [],
   "source": [
    "del data['UpperMessage']"
   ]
  },
  {
   "cell_type": "markdown",
   "id": "396a2f22",
   "metadata": {},
   "source": [
    "# sampling code"
   ]
  },
  {
   "cell_type": "code",
   "execution_count": null,
   "id": "dd5f5293",
   "metadata": {},
   "outputs": [],
   "source": [
    "from sklearn.feature_extraction.text import CountVectorizer\n",
    "\n",
    "vect = CountVectorizer()\n",
    "vect.fit(data['Message'])\n",
    "X = vect.transform(data['Message'])\n",
    "features = vect.get_feature_names()"
   ]
  },
  {
   "cell_type": "code",
   "execution_count": null,
   "id": "fb809ba4",
   "metadata": {},
   "outputs": [],
   "source": [
    "limit = 10\n",
    "dft = {}\n",
    "for indx, feature in enumerate(features):\n",
    "    has_term = data[\"Message\"].str.lower().str.contains(feature)\n",
    "    res = pd.DataFrame(data[has_term])\n",
    "    \n",
    "    classes = res['Polarity'].value_counts().keys().tolist()\n",
    "    term1 = res['Polarity'].value_counts(dropna=False).tolist()\n",
    "   \n",
    "    \n",
    "    dft[feature] = classes +  term1           \n",
    "    if indx == limit:\n",
    "        break\n",
    "dft   "
   ]
  },
  {
   "cell_type": "code",
   "execution_count": null,
   "id": "788af5e2",
   "metadata": {},
   "outputs": [],
   "source": [
    "limit = 10\n",
    "dft = {}\n",
    "temp = []\n",
    "for indx, feature in enumerate(features):\n",
    "    has_term = data[\"Message\"].str.lower().str.contains(feature)\n",
    "    res = pd.DataFrame(data[has_term])\n",
    "    \n",
    "    classes = res['Polarity'].value_counts().keys().tolist()\n",
    "    term1 = res['Polarity'].value_counts().tolist()\n",
    "    for c in classes:\n",
    "        for v in term1:\n",
    "            temp = {c:v}\n",
    "                    \n",
    "    if indx == limit:\n",
    "        break\n",
    "dft "
   ]
  },
  {
   "cell_type": "code",
   "execution_count": null,
   "id": "ec8c2d25",
   "metadata": {},
   "outputs": [],
   "source": [
    "#pd.DataFrame.from_dict(dft, orient='columns').T"
   ]
  },
  {
   "cell_type": "code",
   "execution_count": null,
   "id": "79865007",
   "metadata": {},
   "outputs": [],
   "source": [
    "Dict = { }\n",
    "print(\"Initial nested dictionary:-\")"
   ]
  },
  {
   "cell_type": "code",
   "execution_count": null,
   "id": "3157e903",
   "metadata": {},
   "outputs": [],
   "source": [
    "print(Dict)"
   ]
  },
  {
   "cell_type": "code",
   "execution_count": null,
   "id": "cd45abbb",
   "metadata": {},
   "outputs": [],
   "source": [
    "Dict['Dict1'] = {}"
   ]
  },
  {
   "cell_type": "code",
   "execution_count": null,
   "id": "9547cdc2",
   "metadata": {},
   "outputs": [],
   "source": [
    "Dict['Dict1']['name'] = 'Bob'"
   ]
  },
  {
   "cell_type": "code",
   "execution_count": null,
   "id": "fff2b5a6",
   "metadata": {},
   "outputs": [],
   "source": [
    "Dict"
   ]
  },
  {
   "cell_type": "code",
   "execution_count": null,
   "id": "ac49a946",
   "metadata": {},
   "outputs": [],
   "source": []
  },
  {
   "cell_type": "code",
   "execution_count": null,
   "id": "4cd71368",
   "metadata": {},
   "outputs": [],
   "source": []
  },
  {
   "cell_type": "code",
   "execution_count": null,
   "id": "6242988c",
   "metadata": {},
   "outputs": [],
   "source": []
  },
  {
   "cell_type": "code",
   "execution_count": null,
   "id": "09810200",
   "metadata": {},
   "outputs": [],
   "source": []
  },
  {
   "cell_type": "code",
   "execution_count": null,
   "id": "2e4aeb72",
   "metadata": {},
   "outputs": [],
   "source": []
  },
  {
   "cell_type": "code",
   "execution_count": null,
   "id": "8710d6af",
   "metadata": {},
   "outputs": [],
   "source": []
  },
  {
   "cell_type": "code",
   "execution_count": null,
   "id": "45168323",
   "metadata": {},
   "outputs": [],
   "source": []
  },
  {
   "cell_type": "code",
   "execution_count": null,
   "id": "abe1fa00",
   "metadata": {},
   "outputs": [],
   "source": []
  },
  {
   "cell_type": "code",
   "execution_count": null,
   "id": "244779e4",
   "metadata": {},
   "outputs": [],
   "source": []
  },
  {
   "cell_type": "code",
   "execution_count": null,
   "id": "feb1548f",
   "metadata": {},
   "outputs": [],
   "source": []
  },
  {
   "cell_type": "code",
   "execution_count": null,
   "id": "87a16c75",
   "metadata": {},
   "outputs": [],
   "source": []
  },
  {
   "cell_type": "code",
   "execution_count": null,
   "id": "40fe0c9b",
   "metadata": {},
   "outputs": [],
   "source": []
  },
  {
   "cell_type": "code",
   "execution_count": null,
   "id": "aa4b44b1",
   "metadata": {},
   "outputs": [],
   "source": []
  },
  {
   "cell_type": "code",
   "execution_count": null,
   "id": "1997acf9",
   "metadata": {},
   "outputs": [],
   "source": []
  },
  {
   "cell_type": "code",
   "execution_count": null,
   "id": "7fa5b539",
   "metadata": {},
   "outputs": [],
   "source": []
  },
  {
   "cell_type": "code",
   "execution_count": null,
   "id": "c8bad417",
   "metadata": {},
   "outputs": [],
   "source": []
  },
  {
   "cell_type": "code",
   "execution_count": null,
   "id": "3477cd6e",
   "metadata": {},
   "outputs": [],
   "source": []
  },
  {
   "cell_type": "code",
   "execution_count": null,
   "id": "b03bff31",
   "metadata": {},
   "outputs": [],
   "source": []
  },
  {
   "cell_type": "code",
   "execution_count": null,
   "id": "59747d9c",
   "metadata": {},
   "outputs": [],
   "source": []
  },
  {
   "cell_type": "code",
   "execution_count": null,
   "id": "ff3ea9e2",
   "metadata": {},
   "outputs": [],
   "source": []
  },
  {
   "cell_type": "code",
   "execution_count": null,
   "id": "90122668",
   "metadata": {},
   "outputs": [],
   "source": []
  },
  {
   "cell_type": "code",
   "execution_count": null,
   "id": "3d3b8da7",
   "metadata": {},
   "outputs": [],
   "source": []
  },
  {
   "cell_type": "code",
   "execution_count": null,
   "id": "a9408b00",
   "metadata": {},
   "outputs": [],
   "source": []
  },
  {
   "cell_type": "code",
   "execution_count": null,
   "id": "f740bb0c",
   "metadata": {},
   "outputs": [],
   "source": []
  },
  {
   "cell_type": "code",
   "execution_count": null,
   "id": "9b499e94",
   "metadata": {},
   "outputs": [],
   "source": []
  },
  {
   "cell_type": "code",
   "execution_count": null,
   "id": "9d408305",
   "metadata": {},
   "outputs": [],
   "source": []
  },
  {
   "cell_type": "code",
   "execution_count": null,
   "id": "f43da335",
   "metadata": {},
   "outputs": [],
   "source": []
  },
  {
   "cell_type": "code",
   "execution_count": null,
   "id": "e3460fee",
   "metadata": {},
   "outputs": [],
   "source": []
  },
  {
   "cell_type": "code",
   "execution_count": null,
   "id": "93f452c8",
   "metadata": {},
   "outputs": [],
   "source": []
  },
  {
   "cell_type": "code",
   "execution_count": null,
   "id": "e39278b3",
   "metadata": {},
   "outputs": [],
   "source": []
  },
  {
   "cell_type": "code",
   "execution_count": null,
   "id": "220421f1",
   "metadata": {},
   "outputs": [],
   "source": []
  },
  {
   "cell_type": "code",
   "execution_count": null,
   "id": "89a1150a",
   "metadata": {},
   "outputs": [],
   "source": []
  },
  {
   "cell_type": "code",
   "execution_count": null,
   "id": "fb75247d",
   "metadata": {},
   "outputs": [],
   "source": []
  },
  {
   "cell_type": "code",
   "execution_count": null,
   "id": "b002cded",
   "metadata": {},
   "outputs": [],
   "source": []
  },
  {
   "cell_type": "code",
   "execution_count": null,
   "id": "6b3cbf94",
   "metadata": {},
   "outputs": [],
   "source": [
    "data['result']"
   ]
  },
  {
   "cell_type": "code",
   "execution_count": null,
   "id": "7000fa9d",
   "metadata": {},
   "outputs": [],
   "source": []
  },
  {
   "cell_type": "code",
   "execution_count": null,
   "id": "ec518137",
   "metadata": {},
   "outputs": [],
   "source": [
    "data['Message'].shape"
   ]
  },
  {
   "cell_type": "code",
   "execution_count": null,
   "id": "a47035f7",
   "metadata": {},
   "outputs": [],
   "source": []
  },
  {
   "cell_type": "code",
   "execution_count": null,
   "id": "445b2498",
   "metadata": {},
   "outputs": [],
   "source": []
  },
  {
   "cell_type": "code",
   "execution_count": null,
   "id": "ec2c4ab4",
   "metadata": {},
   "outputs": [],
   "source": []
  },
  {
   "cell_type": "code",
   "execution_count": null,
   "id": "19281e01",
   "metadata": {},
   "outputs": [],
   "source": []
  },
  {
   "cell_type": "code",
   "execution_count": null,
   "id": "fcad3829",
   "metadata": {},
   "outputs": [],
   "source": []
  },
  {
   "cell_type": "code",
   "execution_count": null,
   "id": "0e0b374e",
   "metadata": {},
   "outputs": [],
   "source": []
  },
  {
   "cell_type": "code",
   "execution_count": null,
   "id": "852e6bd2",
   "metadata": {},
   "outputs": [],
   "source": []
  },
  {
   "cell_type": "code",
   "execution_count": null,
   "id": "856a0963",
   "metadata": {},
   "outputs": [],
   "source": []
  },
  {
   "cell_type": "code",
   "execution_count": null,
   "id": "c9e80f22",
   "metadata": {},
   "outputs": [],
   "source": []
  },
  {
   "cell_type": "code",
   "execution_count": null,
   "id": "83fc7d8c",
   "metadata": {},
   "outputs": [],
   "source": []
  },
  {
   "cell_type": "code",
   "execution_count": null,
   "id": "e8d4c719",
   "metadata": {},
   "outputs": [],
   "source": []
  },
  {
   "cell_type": "code",
   "execution_count": null,
   "id": "3866cd47",
   "metadata": {},
   "outputs": [],
   "source": []
  },
  {
   "cell_type": "code",
   "execution_count": null,
   "id": "54dbe4a4",
   "metadata": {},
   "outputs": [],
   "source": []
  },
  {
   "cell_type": "code",
   "execution_count": null,
   "id": "fcd62560",
   "metadata": {},
   "outputs": [],
   "source": []
  },
  {
   "cell_type": "code",
   "execution_count": null,
   "id": "d6068228",
   "metadata": {},
   "outputs": [],
   "source": []
  },
  {
   "cell_type": "code",
   "execution_count": null,
   "id": "353b52c8",
   "metadata": {},
   "outputs": [],
   "source": []
  },
  {
   "cell_type": "code",
   "execution_count": null,
   "id": "5ed61703",
   "metadata": {},
   "outputs": [],
   "source": []
  },
  {
   "cell_type": "code",
   "execution_count": null,
   "id": "af944168",
   "metadata": {},
   "outputs": [],
   "source": []
  },
  {
   "cell_type": "code",
   "execution_count": null,
   "id": "e1db2430",
   "metadata": {},
   "outputs": [],
   "source": []
  },
  {
   "cell_type": "markdown",
   "id": "133c998c",
   "metadata": {},
   "source": [
    "# Splitting String"
   ]
  },
  {
   "cell_type": "code",
   "execution_count": null,
   "id": "701755a1",
   "metadata": {},
   "outputs": [],
   "source": []
  },
  {
   "cell_type": "code",
   "execution_count": null,
   "id": "5f4a8d42",
   "metadata": {},
   "outputs": [],
   "source": []
  },
  {
   "cell_type": "code",
   "execution_count": null,
   "id": "2fd70aeb",
   "metadata": {},
   "outputs": [],
   "source": []
  },
  {
   "cell_type": "code",
   "execution_count": null,
   "id": "26477cb3",
   "metadata": {},
   "outputs": [],
   "source": []
  },
  {
   "cell_type": "code",
   "execution_count": null,
   "id": "7772f2fe",
   "metadata": {},
   "outputs": [],
   "source": []
  },
  {
   "cell_type": "code",
   "execution_count": null,
   "id": "129f3ce5",
   "metadata": {},
   "outputs": [],
   "source": []
  },
  {
   "cell_type": "code",
   "execution_count": null,
   "id": "2233c88f",
   "metadata": {},
   "outputs": [],
   "source": []
  },
  {
   "cell_type": "code",
   "execution_count": null,
   "id": "5115822c",
   "metadata": {},
   "outputs": [],
   "source": []
  },
  {
   "cell_type": "code",
   "execution_count": null,
   "id": "80ef253c",
   "metadata": {},
   "outputs": [],
   "source": []
  },
  {
   "cell_type": "code",
   "execution_count": null,
   "id": "4ba4ff97",
   "metadata": {},
   "outputs": [],
   "source": []
  },
  {
   "cell_type": "code",
   "execution_count": null,
   "id": "8a65c8fb",
   "metadata": {},
   "outputs": [],
   "source": []
  },
  {
   "cell_type": "code",
   "execution_count": null,
   "id": "5b338fad",
   "metadata": {},
   "outputs": [],
   "source": []
  },
  {
   "cell_type": "code",
   "execution_count": null,
   "id": "f563aa0c",
   "metadata": {},
   "outputs": [],
   "source": []
  },
  {
   "cell_type": "code",
   "execution_count": null,
   "id": "1b1c4773",
   "metadata": {},
   "outputs": [],
   "source": []
  },
  {
   "cell_type": "code",
   "execution_count": null,
   "id": "14da5c68",
   "metadata": {},
   "outputs": [],
   "source": []
  },
  {
   "cell_type": "code",
   "execution_count": null,
   "id": "15861372",
   "metadata": {},
   "outputs": [],
   "source": []
  },
  {
   "cell_type": "code",
   "execution_count": null,
   "id": "669c815c",
   "metadata": {},
   "outputs": [],
   "source": []
  },
  {
   "cell_type": "code",
   "execution_count": null,
   "id": "ee46acbb",
   "metadata": {},
   "outputs": [],
   "source": []
  },
  {
   "cell_type": "code",
   "execution_count": null,
   "id": "a26e0434",
   "metadata": {},
   "outputs": [],
   "source": []
  },
  {
   "cell_type": "code",
   "execution_count": null,
   "id": "d2ee6522",
   "metadata": {},
   "outputs": [],
   "source": []
  },
  {
   "cell_type": "code",
   "execution_count": null,
   "id": "1fd19be0",
   "metadata": {},
   "outputs": [],
   "source": []
  },
  {
   "cell_type": "code",
   "execution_count": null,
   "id": "7980ba39",
   "metadata": {},
   "outputs": [],
   "source": []
  },
  {
   "cell_type": "code",
   "execution_count": null,
   "id": "00a288d7",
   "metadata": {},
   "outputs": [],
   "source": []
  },
  {
   "cell_type": "code",
   "execution_count": null,
   "id": "e18d6428",
   "metadata": {},
   "outputs": [],
   "source": []
  },
  {
   "cell_type": "code",
   "execution_count": null,
   "id": "8b9a31a9",
   "metadata": {},
   "outputs": [],
   "source": []
  },
  {
   "cell_type": "code",
   "execution_count": null,
   "id": "4c7b64f2",
   "metadata": {},
   "outputs": [],
   "source": []
  },
  {
   "cell_type": "code",
   "execution_count": null,
   "id": "833080e5",
   "metadata": {},
   "outputs": [],
   "source": []
  },
  {
   "cell_type": "code",
   "execution_count": null,
   "id": "c26cbc01",
   "metadata": {},
   "outputs": [],
   "source": []
  },
  {
   "cell_type": "code",
   "execution_count": null,
   "id": "1051b1d3",
   "metadata": {},
   "outputs": [],
   "source": []
  },
  {
   "cell_type": "code",
   "execution_count": null,
   "id": "3622d90c",
   "metadata": {},
   "outputs": [],
   "source": []
  },
  {
   "cell_type": "code",
   "execution_count": null,
   "id": "0e5ac075",
   "metadata": {},
   "outputs": [],
   "source": []
  },
  {
   "cell_type": "code",
   "execution_count": null,
   "id": "96328017",
   "metadata": {},
   "outputs": [],
   "source": []
  },
  {
   "cell_type": "code",
   "execution_count": null,
   "id": "b09e0d3d",
   "metadata": {},
   "outputs": [],
   "source": []
  },
  {
   "cell_type": "code",
   "execution_count": null,
   "id": "70afe28c",
   "metadata": {},
   "outputs": [],
   "source": []
  },
  {
   "cell_type": "code",
   "execution_count": null,
   "id": "4a53efb9",
   "metadata": {},
   "outputs": [],
   "source": []
  },
  {
   "cell_type": "code",
   "execution_count": null,
   "id": "3f263cb9",
   "metadata": {},
   "outputs": [],
   "source": []
  },
  {
   "cell_type": "code",
   "execution_count": null,
   "id": "23b660c4",
   "metadata": {},
   "outputs": [],
   "source": []
  },
  {
   "cell_type": "code",
   "execution_count": null,
   "id": "fca3eff0",
   "metadata": {},
   "outputs": [],
   "source": []
  },
  {
   "cell_type": "code",
   "execution_count": null,
   "id": "59ae6cfd",
   "metadata": {},
   "outputs": [],
   "source": []
  },
  {
   "cell_type": "code",
   "execution_count": null,
   "id": "09c4eb52",
   "metadata": {},
   "outputs": [],
   "source": []
  },
  {
   "cell_type": "code",
   "execution_count": null,
   "id": "064a01d1",
   "metadata": {},
   "outputs": [],
   "source": []
  },
  {
   "cell_type": "code",
   "execution_count": null,
   "id": "d156a5e0",
   "metadata": {},
   "outputs": [],
   "source": []
  },
  {
   "cell_type": "code",
   "execution_count": null,
   "id": "3ceea266",
   "metadata": {},
   "outputs": [],
   "source": []
  },
  {
   "cell_type": "code",
   "execution_count": null,
   "id": "a9393009",
   "metadata": {},
   "outputs": [],
   "source": []
  },
  {
   "cell_type": "code",
   "execution_count": null,
   "id": "99233e2c",
   "metadata": {},
   "outputs": [],
   "source": []
  },
  {
   "cell_type": "code",
   "execution_count": null,
   "id": "608d7225",
   "metadata": {},
   "outputs": [],
   "source": []
  },
  {
   "cell_type": "code",
   "execution_count": null,
   "id": "74b39f01",
   "metadata": {},
   "outputs": [],
   "source": []
  },
  {
   "cell_type": "code",
   "execution_count": null,
   "id": "d3463598",
   "metadata": {},
   "outputs": [],
   "source": []
  },
  {
   "cell_type": "code",
   "execution_count": null,
   "id": "846f2946",
   "metadata": {},
   "outputs": [],
   "source": []
  },
  {
   "cell_type": "code",
   "execution_count": null,
   "id": "5e423690",
   "metadata": {},
   "outputs": [],
   "source": []
  },
  {
   "cell_type": "code",
   "execution_count": null,
   "id": "e1821c1f",
   "metadata": {},
   "outputs": [],
   "source": []
  },
  {
   "cell_type": "code",
   "execution_count": null,
   "id": "c9f32f51",
   "metadata": {},
   "outputs": [],
   "source": []
  },
  {
   "cell_type": "code",
   "execution_count": null,
   "id": "6104e775",
   "metadata": {},
   "outputs": [],
   "source": []
  },
  {
   "cell_type": "code",
   "execution_count": null,
   "id": "246b3b61",
   "metadata": {},
   "outputs": [],
   "source": []
  },
  {
   "cell_type": "code",
   "execution_count": null,
   "id": "087f27bc",
   "metadata": {},
   "outputs": [],
   "source": []
  },
  {
   "cell_type": "code",
   "execution_count": null,
   "id": "54aeb7a8",
   "metadata": {},
   "outputs": [],
   "source": []
  },
  {
   "cell_type": "code",
   "execution_count": null,
   "id": "c0773706",
   "metadata": {},
   "outputs": [],
   "source": []
  },
  {
   "cell_type": "code",
   "execution_count": null,
   "id": "000496d1",
   "metadata": {},
   "outputs": [],
   "source": []
  },
  {
   "cell_type": "code",
   "execution_count": null,
   "id": "2f19ba33",
   "metadata": {},
   "outputs": [],
   "source": []
  }
 ],
 "metadata": {
  "kernelspec": {
   "display_name": "Python 3 (ipykernel)",
   "language": "python",
   "name": "python3"
  },
  "language_info": {
   "codemirror_mode": {
    "name": "ipython",
    "version": 3
   },
   "file_extension": ".py",
   "mimetype": "text/x-python",
   "name": "python",
   "nbconvert_exporter": "python",
   "pygments_lexer": "ipython3",
   "version": "3.10.5"
  }
 },
 "nbformat": 4,
 "nbformat_minor": 5
}
